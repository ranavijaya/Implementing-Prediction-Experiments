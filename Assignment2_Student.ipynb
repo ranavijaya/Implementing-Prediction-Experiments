{
  "cells": [
    {
      "cell_type": "markdown",
      "metadata": {
        "id": "rapid-prague"
      },
      "source": [
        "# Programming Assignment 2\n",
        "\n",
        "In this assignment, you will:\n",
        "\n",
        "1. Practice writing code to train and evaluate models using both the two-way holdout method, and an evaluation approach appropriate for models with hyperparameters that uses k-fold cross validation plus a test set.\n",
        "\n",
        "2. Practice writing code to optimize a machine learning model. In particular, we will use gradient descent to optimize a logistic regression model.\n",
        "\n",
        "3. **574 Only**: Perform optimization with a different algorithm (Newton-Raphson)\n",
        "\n",
        "# Resources you can use to complete this assignment (a COMPLETE list)\n",
        "\n",
        "**NOTE: You ARE allowed to use Google to find things that fit this list (i.e. it is often easy to google something like \"plotly draw line graph\" to find the right part of the plotly documentation).**\n",
        "\n",
        "- Anything linked to in this article\n",
        "- Anything linked to from the course web page\n",
        "- Any materials from another online course taught at a university (**if you use this, you MUST provide a link to the exact document used**)\n",
        "- Anything posted by Kenny, Navid, or Yincheng on Piazza\n"
      ],
      "id": "rapid-prague"
    },
    {
      "cell_type": "markdown",
      "metadata": {
        "id": "everyday-packing"
      },
      "source": [
        "\n",
        "# Grading\n",
        "\n",
        "For grading of code in Part 2, we will execute the submitted notebook as follows:\n",
        "\n",
        "```shell\n",
        "jupyter nbconvert --to python Assignment2-Student.ipynb\n",
        "python Assignment2-Student.py\n",
        "```\n",
        "\n",
        "The PDF that comes along with this document has other details on the points awarded for each part.\n",
        "\n",
        "As such, you will submit, one member of your group will subit as a zip file on UBLearns, a ```.zip``` file that contains 4 things:\n",
        "- Your completed jupyter notebook.\n",
        "- Your written report, answering all questions asked here (and copied in the assignment PDF)\n",
        "- `part_1.1_results.csv`\n",
        "- `part_1.4_results.csv`\n"
      ],
      "id": "everyday-packing"
    },
    {
      "cell_type": "markdown",
      "metadata": {
        "id": "adjustable-double"
      },
      "source": [
        "# Part 1 - Predicting Review Scores on Pitchfork\n",
        "\n",
        "For Part 1, we will be using data from [this paper](https://ojs.aaai.org/index.php/ICWSM/article/view/7355). The data is a collection of reviews from [Pitchfork](https://pitchfork.com/), a site that provides expert reviews of music album. The authors of this paper have also combined the data with a set of features from [Spotify’s API](https://developer.spotify.com/documentation/web-api/) that provide insight into the music itself, e.g. the \"acousticness\" of the song.  We will tackle a regression problem here, trying to predict the score of a review from several of the other columns in the dataset.\n",
        "\n",
        "## Part 1.1 - Feature Engineering with Feature Subsets\n",
        "\n",
        "In the first subsection of Part 1, we’re going to rely on our old friend linear regression. We’re going to look at how running linear regression with various subsets of our features impacts our ability to predict score.\n",
        "\n",
        "In Part 1.1, your task is to write code below that trains a separate linear regression model for a number of different feature subsets.  Specifically:\n",
        "\n",
        "- The list `feature_sets` below is a list of lists; each sublist is a different subset of features to build a model with. \n",
        "- All models should be trained on the dataset `part1_train.csv`. \n",
        "- For each of these trained models, you should evaluate the model’s predictions on the training dataset, as well as the provided test set, called `part1_test.csv`. The evaluation metric we will use is **root mean squared error**.  \n",
        "\n",
        "Write out the result to a file called `part_1.1_results.csv` and submit this along with your assignment. The file should have the following columns:\n",
        "- `feature_set` - a column describing the features of the model used. For feature sets with multiple features, combine them using an underscore (you can do this with the code `\"_\".join(feature_set)`)\n",
        "- `training_rmse` - a column that gives the RMSE of a linear regression model trained on this feature set on the training data\n",
        "- `test_rmse` - a column that gives the RMSE of a linear regression model trained on this feature set on the test data\n",
        "\n",
        "In addition, please answer the following questions:\n",
        "- **1.1.1** Which model had the best RMSE on the *training data*? \n",
        "- **1.1.2** Which model had the best RMSE on the *test data*? \n",
        "- **1.1.3** Which feature do you believe was the most important one? Why? *(Note: There is more than one perfectly acceptable way to answer this question)*\n",
        "- **1.1.4** What can we say about the utility of the Spotify features based on these results?"
      ],
      "id": "adjustable-double"
    },
    {
      "cell_type": "code",
      "execution_count": null,
      "metadata": {
        "id": "waiting-bunch"
      },
      "outputs": [],
      "source": [
        "feature_sets = [['artist'],\n",
        " ['reviewauthor'],\n",
        " ['releaseyear'],\n",
        " ['recordlabel'],\n",
        " ['genre'],\n",
        " ['danceability'],\n",
        " ['energy'],\n",
        " ['key'],\n",
        " ['loudness'],\n",
        " ['speechiness'],\n",
        " ['acousticness'],\n",
        " ['instrumentalness'],\n",
        " ['liveness'],\n",
        " ['valence'],\n",
        " ['tempo'],\n",
        " ['danceability','energy','key','loudness','speechiness','acousticness',\n",
        "  'instrumentalness','liveness','valence','tempo'],\n",
        " ['artist', 'reviewauthor', 'releaseyear', 'recordlabel', 'genre'],\n",
        " ['artist', 'reviewauthor', 'releaseyear', 'recordlabel', 'genre', 'danceability', \n",
        "  'energy', 'key', 'loudness', 'speechiness', 'acousticness', 'instrumentalness',\n",
        "  'liveness', 'valence', 'tempo']]\n"
      ],
      "id": "waiting-bunch"
    },
    {
      "cell_type": "code",
      "execution_count": null,
      "metadata": {
        "id": "sk_FuBjnEd_u"
      },
      "outputs": [],
      "source": [
        "import pandas as pd\n",
        "import numpy as np\n",
        "import matplotlib.pyplot as plt\n",
        "import seaborn as sns\n",
        "import numpy as np\n",
        "from sklearn.linear_model import LinearRegression\n",
        "from sklearn.preprocessing import StandardScaler\n",
        "from sklearn.impute import SimpleImputer\n",
        "from sklearn.preprocessing import OneHotEncoder\n",
        "\n",
        "# Convenience things for you, note that releaseyear is continuous but is not a Spotify API variable\n",
        "CONTINUOUS_FEATURES = ['releaseyear', 'danceability', 'energy', 'key', 'loudness',\n",
        "       'speechiness', 'acousticness', 'instrumentalness', 'liveness',\n",
        "       'valence', 'tempo']\n",
        "CATEGORICAL_FEATURES = ['artist', 'reviewauthor', 'recordlabel', 'genre']\n",
        "\n",
        "# Read in the data\n",
        "training_data = pd.read_csv(\"part1_train.csv\")\n",
        "test_data = pd.read_csv(\"part1_test.csv\")\n",
        "\n",
        "result_data = []\n",
        "target_var = training_data.score\n",
        "target_var_test = test_data.score\n"
      ],
      "id": "sk_FuBjnEd_u"
    },
    {
      "cell_type": "code",
      "execution_count": null,
      "metadata": {
        "id": "caring-aluminum"
      },
      "outputs": [],
      "source": [
        "\n",
        "#continuous_rescaled_X = StandardScaler().fit_transform(training_data[CONTINUOUS_FEATURES].values)\n",
        "#categorical_X, feature_labels =  onehot_encode_var(training_data, CATEGORICAL_FEATURES)\n",
        "#X = np.concatenate((continuous_rescaled_X,categorical_X), axis=1)\n",
        "#print(X)\n",
        "\n",
        "y_train = target_var\n",
        "y_test = target_var_test\n",
        "\n",
        "imputer = SimpleImputer(strategy='most_frequent')\n",
        "results_11 = []\n",
        "for feature_set in feature_sets:\n",
        "    # Write your code for Part 1.1 here!\n",
        "    to_transform = []\n",
        "    # imputed_X_train = pd.DataFrame(imputer.fit_transform(training_data))\n",
        "    # imputed_X_train.columns = training_data.columns\n",
        "\n",
        "    # imputed_X_test = pd.DataFrame(imputer.transform(test_data))\n",
        "    # imputed_X_test.columns = test_data.columns\n",
        "\n",
        "    imputed_X_train = training_data[feature_set]\n",
        "    imputed_X_test = test_data[feature_set]\n",
        "\n",
        "\n",
        "    for ele in feature_set:\n",
        "        if ele in CATEGORICAL_FEATURES:\n",
        "            to_transform.append(ele)\n",
        "    if len(to_transform) != 0:\n",
        "        encoder = OneHotEncoder(categories='auto',handle_unknown = 'ignore')\n",
        "        X_train_cat = encoder.fit_transform(imputed_X_train[to_transform]).toarray()\n",
        "        X_test_cat = encoder.transform(imputed_X_test[to_transform]).toarray()\n",
        "\n",
        "        X_train = np.hstack((imputed_X_train[[i for i in feature_set if i not in to_transform ]].values, X_train_cat))\n",
        "        X_test = np.hstack((imputed_X_test[[i for i in feature_set if i not in to_transform ]].values, X_test_cat))\n",
        "\n",
        "\n",
        "    else:\n",
        "        X_train = imputed_X_train[feature_set]\n",
        "        X_test = imputed_X_test[feature_set]\n",
        "\n",
        "    scaler = StandardScaler()\n",
        "    X_train = scaler.fit_transform(X_train)\n",
        "    X_test = scaler.transform(X_test)\n",
        "\n",
        "    lnr_mdl = LinearRegression()\n",
        "    lnr_mdl.fit(X_train, y_train)\n",
        "    preds = lnr_mdl.predict(X_test)\n",
        "    preds_train = lnr_mdl.predict(X_train)\n",
        "\n",
        "    abs_diff = abs(preds-y_test)\n",
        "    abs_diff_train = abs(preds_train-y_train)\n",
        "\n",
        "    rmse_calc = np.sqrt(np.mean(np.square(preds - y_test)))\n",
        "    rmse_train = np.sqrt(np.mean(np.square(preds_train - y_train)))\n",
        "#result_data.append(rmse_calc)\n",
        "    # print(rmse_calc)\n",
        "    # results_11.append({'feature_set':feature_set,'#features': len(feature_set),'train_rmse':rmse_train,'test_rmse':rmse_calc})\n",
        "    results_11.append([i in feature_set for i in feature_sets[-1]] + [rmse_train, rmse_calc])\n"
      ],
      "id": "caring-aluminum"
    },
    {
      "cell_type": "code",
      "execution_count": null,
      "metadata": {
        "colab": {
          "base_uri": "https://localhost:8080/",
          "height": 359
        },
        "id": "r3G2ludxiN4p",
        "outputId": "d77ff846-80b1-4066-ac27-3ab5a576dff8"
      },
      "outputs": [
        {
          "data": {
            "text/plain": [
              "<matplotlib.axes._subplots.AxesSubplot at 0x7fa61ba97650>"
            ]
          },
          "execution_count": 90,
          "metadata": {},
          "output_type": "execute_result"
        },
        {
          "data": {
            "image/png": "[encoded data removed]",
            "text/plain": [
              "<Figure size 432x288 with 2 Axes>"
            ]
          },
          "metadata": {},
          "output_type": "display_data"
        }
      ],
      "source": [
        "results_11_matrix = pd.DataFrame(results_11, columns = feature_sets[-1] + ['rmse_train', 'rmse_test'])\n",
        "sns.heatmap(results_11_matrix.replace({False:1.25, True:1.13}))"
      ],
      "id": "r3G2ludxiN4p"
    },
    {
      "cell_type": "code",
      "execution_count": null,
      "metadata": {
        "colab": {
          "background_save": true
        },
        "id": "5t9-d9MizwFx"
      },
      "outputs": [],
      "source": [
        "results_11_matrix.to_csv('part_1.1_results.csv')"
      ],
      "id": "5t9-d9MizwFx"
    },
    {
      "cell_type": "markdown",
      "metadata": {
        "id": "SDQSBAtdtjAP"
      },
      "source": [
        "1.1.3 The heatmap indicates the presence of features (in black for all the columns except last 2), and test and train rmse in the last 2 columns.\n",
        "Based on the above Heatmap we can say that presence of 'reviewauthor' resulted in much lower rmse comparatively. So, 'reviewauthor' seems to be most import feature.\n",
        "\n",
        "1.1.4 As seen in the heatmap that the addition of spotify features does not imporve results significantly, and thus are not useful for the linear regression model.**bold text**"
      ],
      "id": "SDQSBAtdtjAP"
    },
    {
      "cell_type": "code",
      "execution_count": null,
      "metadata": {
        "colab": {
          "base_uri": "https://localhost:8080/"
        },
        "id": "Eyo5Q1a2wukQ",
        "outputId": "68390752-359a-4ee7-8020-4935cfd2d3f8"
      },
      "outputs": [
        {
          "data": {
            "text/plain": [
              "17    1.116982\n",
              "16    1.120437\n",
              "1     1.181263\n",
              "Name: rmse_train, dtype: float64"
            ]
          },
          "execution_count": 28,
          "metadata": {},
          "output_type": "execute_result"
        }
      ],
      "source": [
        "results_11_matrix.iloc[:,-2].sort_values()[:3]"
      ],
      "id": "Eyo5Q1a2wukQ"
    },
    {
      "cell_type": "code",
      "execution_count": null,
      "metadata": {
        "colab": {
          "base_uri": "https://localhost:8080/"
        },
        "id": "z7CM1-uWuzja",
        "outputId": "45d0a1fe-a8eb-449e-d006-0bb53e0d5b0d"
      },
      "outputs": [
        {
          "data": {
            "text/plain": [
              "17    1.176028\n",
              "16    1.177694\n",
              "1     1.195298\n",
              "Name: rmse_test, dtype: float64"
            ]
          },
          "execution_count": 29,
          "metadata": {},
          "output_type": "execute_result"
        }
      ],
      "source": [
        "# 1.1.1 & 1.1.2 the last model had least rmse for test and train for following features {add features from heatmap}\n",
        "results_11_matrix.iloc[:,-1].sort_values()[:3]\n"
      ],
      "id": "z7CM1-uWuzja"
    },
    {
      "cell_type": "markdown",
      "metadata": {
        "id": "addressed-mercy"
      },
      "source": [
        "## Part 1.2 - Feature Engineering with the LASSO\n",
        "\n",
        "In Part 1.2, your task is to write code below that trains an L1-regularized linear regression model, with an expanded feature set.  Specifically:\n",
        "\n",
        "1. Begin with the final feature set listed in `feature_sets` (i.e. your feature set, to begin this section, is `feature_sets[-1]`.\n",
        "2. One-hot encode your categorical variables, setting `drop=if_binary` and `sparse=False` in the function arguments. \n",
        "3. Scale all of your continuous features using the `StandardScaler`.\n",
        "4. Train an L1-regularized linear regression model using these features on the dataset `part1_train.csv`. You should use the [LassoCV](https://scikit-learn.org/stable/modules/generated/sklearn.linear_model.LassoCV.html) class in `sklearn`, it will do the cross-validation necessary to select the appropriate value for the regularizer for you!  Use 10-fold cross-validation to perform model selection (set the `LassoCV` parmaeter `cv` to 10), and set the `random_state` to 1. Do not change any of the other parameters to `LassoCV` (i.e. leave them at their defaults).\n",
        "5. Identify the best `alpha` value (the regularizer term, according to `sklearn`. In class, we refer to this as $\\lambda$!) in terms of average mean squared error according to the cross-validation.\n",
        "6. Finally, train a [Lasso](https://scikit-learn.org/stable/modules/generated/sklearn.linear_model.Lasso.html) model on the entire training dataset (`part1_train.csv`). You will use this to report the root mean squared error on the test set (Question 1.2.4 below), and use it in Part 1.3 below as well.\n",
        "\n",
        "**Hint: The proceedure outlined above is very similar to ones we have discussed in class and shown how to do using `Pipeline`s.** \n"
      ],
      "id": "addressed-mercy"
    },
    {
      "cell_type": "code",
      "execution_count": null,
      "metadata": {
        "colab": {
          "base_uri": "https://localhost:8080/"
        },
        "id": "loose-width",
        "outputId": "da203701-756a-4f3d-d274-00a5d7fd89fb"
      },
      "outputs": [
        {
          "name": "stdout",
          "output_type": "stream",
          "text": [
            "1.1223240168890882\n"
          ]
        }
      ],
      "source": [
        "# Write your code for Part 1.2 here\n",
        "from sklearn.linear_model import LassoCV, Lasso\n",
        "\n",
        "# Do the CV to find alpha\n",
        "features = feature_sets[-1]\n",
        "feature_set=features\n",
        "\n",
        "# Retrain the model\n",
        "\n",
        "to_transform = []\n",
        "# imputed_X_train = pd.DataFrame(imputer.fit_transform(training_data))\n",
        "# imputed_X_train.columns = training_data.columns\n",
        "\n",
        "# imputed_X_test = pd.DataFrame(imputer.transform(test_data))\n",
        "# imputed_X_test.columns = test_data.columns\n",
        "\n",
        "imputed_X_train = training_data[feature_set]\n",
        "imputed_X_test = test_data[feature_set]\n",
        "\n",
        "\n",
        "for ele in feature_set:\n",
        "    if ele in CATEGORICAL_FEATURES:\n",
        "        to_transform.append(ele)\n",
        "encoder = OneHotEncoder(categories='auto', drop='if_binary', sparse=False,handle_unknown = 'ignore')\n",
        "X_train_cat = encoder.fit_transform(imputed_X_train[to_transform])\n",
        "X_test_cat = encoder.transform(imputed_X_test[to_transform])\n",
        "\n",
        "X_train = np.hstack((imputed_X_train[[i for i in feature_set if i not in to_transform ]].values, X_train_cat))\n",
        "X_test = np.hstack((imputed_X_test[[i for i in feature_set if i not in to_transform ]].values, X_test_cat))\n",
        "\n",
        "scaler = StandardScaler()\n",
        "X_train = scaler.fit_transform(X_train)\n",
        "X_test = scaler.transform(X_test)\n",
        "\n",
        "# MODIFY FOR LASSO\n",
        "mdl = LassoCV(cv=10, random_state=1)\n",
        "mdl.fit(X_train, y_train)\n",
        "\n",
        "preds = mdl.predict(X_test)\n",
        "preds_train = mdl.predict(X_train)\n",
        "\n",
        "abs_diff = abs(preds-y_test)\n",
        "abs_diff_train = abs(preds_train-y_train)\n",
        "\n",
        "rmse_calc = np.sqrt(np.mean(np.square(preds - y_test)))\n",
        "rmse_train = np.sqrt(np.mean(np.square(preds_train - y_train)))\n",
        "\n",
        "print(rmse_train)\n"
      ],
      "id": "loose-width"
    },
    {
      "cell_type": "code",
      "execution_count": null,
      "metadata": {
        "colab": {
          "base_uri": "https://localhost:8080/"
        },
        "id": "HonR120DKnbk",
        "outputId": "c3512682-d946-48c5-f052-f7c275c66cd5"
      },
      "outputs": [
        {
          "data": {
            "text/plain": [
              "0.004477370509664293"
            ]
          },
          "execution_count": 31,
          "metadata": {},
          "output_type": "execute_result"
        }
      ],
      "source": [
        "mdl.alpha_"
      ],
      "id": "HonR120DKnbk"
    },
    {
      "cell_type": "code",
      "execution_count": null,
      "metadata": {
        "colab": {
          "base_uri": "https://localhost:8080/"
        },
        "id": "TQMU7bVCajaW",
        "outputId": "daa0f5d7-1500-4e57-be8e-8e90ce896d90"
      },
      "outputs": [
        {
          "data": {
            "text/plain": [
              "1.1223240168890882"
            ]
          },
          "execution_count": 32,
          "metadata": {},
          "output_type": "execute_result"
        }
      ],
      "source": [
        "# 1.2.3\n",
        "rmse_train"
      ],
      "id": "TQMU7bVCajaW"
    },
    {
      "cell_type": "code",
      "execution_count": null,
      "metadata": {
        "colab": {
          "base_uri": "https://localhost:8080/"
        },
        "id": "Gwb9ehZKan2r",
        "outputId": "5e36712c-2127-483e-ce9b-078ae38a70d4"
      },
      "outputs": [
        {
          "data": {
            "text/plain": [
              "676"
            ]
          },
          "execution_count": 33,
          "metadata": {},
          "output_type": "execute_result"
        }
      ],
      "source": [
        "# 1.2.1\n",
        "X_test_cat.shape[1] - len(CATEGORICAL_FEATURES)"
      ],
      "id": "Gwb9ehZKan2r"
    },
    {
      "cell_type": "code",
      "execution_count": null,
      "metadata": {
        "id": "1fqXg4PtKgiY"
      },
      "outputs": [],
      "source": [
        "preds = mdl.predict(X_test)\n",
        "preds_train = mdl.predict(X_train)\n",
        "\n",
        "abs_diff = abs(preds-y_test)\n",
        "abs_diff_train = abs(preds_train-y_train)\n",
        "\n",
        "rmse_calc = np.sqrt(np.mean(np.square(preds - y_test)))\n",
        "rmse_train = np.sqrt(np.mean(np.square(preds_train - y_train)))"
      ],
      "id": "1fqXg4PtKgiY"
    },
    {
      "cell_type": "code",
      "execution_count": null,
      "metadata": {
        "colab": {
          "base_uri": "https://localhost:8080/"
        },
        "id": "43HaxrMI5-0Z",
        "outputId": "c76d8b90-6340-4c2b-d5e1-d96d1cbcf7f9"
      },
      "outputs": [
        {
          "data": {
            "text/plain": [
              "0.18544407371434013"
            ]
          },
          "execution_count": 35,
          "metadata": {},
          "output_type": "execute_result"
        }
      ],
      "source": [
        "mdl.score(X_train,y_train)"
      ],
      "id": "43HaxrMI5-0Z"
    },
    {
      "cell_type": "code",
      "execution_count": null,
      "metadata": {
        "colab": {
          "base_uri": "https://localhost:8080/"
        },
        "id": "NtuzRZMlLs77",
        "outputId": "8f278355-59a4-444c-d814-d597a900853b"
      },
      "outputs": [
        {
          "data": {
            "text/plain": [
              "(1.1223240168890882, 1.1646529057502428)"
            ]
          },
          "execution_count": 36,
          "metadata": {},
          "output_type": "execute_result"
        }
      ],
      "source": [
        "rmse_train, rmse_calc"
      ],
      "id": "NtuzRZMlLs77"
    },
    {
      "cell_type": "code",
      "execution_count": null,
      "metadata": {
        "id": "AlRKhmDU58ig"
      },
      "outputs": [],
      "source": [
        ""
      ],
      "id": "AlRKhmDU58ig"
    },
    {
      "cell_type": "markdown",
      "metadata": {
        "id": "distinct-functionality"
      },
      "source": [
        "Now, answer the following questions:\n",
        "- **1.2.1** - How many total features are introduced by Step 2 above? Provide both the number and an explanation of how you got to this number.\n",
        "- **1.2.2** - What was the best `alpha` value according to your cross-validation results?\n",
        "- **1.2.3** - What was the **average RMSE** of the model with this `alpha` value on the k-fold cross validation on the *training* data?\n",
        "- **1.2.4** - What was the **RMSE** of the model with this `alpha` value on the k-fold cross validation on the *test* data?\n"
      ],
      "id": "distinct-functionality"
    },
    {
      "cell_type": "code",
      "execution_count": null,
      "metadata": {
        "colab": {
          "base_uri": "https://localhost:8080/"
        },
        "id": "wYhNpmWSelHK",
        "outputId": "46ffe041-0a18-493b-91b0-b154bf10d633"
      },
      "outputs": [
        {
          "data": {
            "text/plain": [
              "((16270, 680), (16270, 691))"
            ]
          },
          "execution_count": 37,
          "metadata": {},
          "output_type": "execute_result"
        }
      ],
      "source": [
        "# 1.2.1\n",
        "# One-hot encode your categorical variables, setting drop=if_binary and sparse=False in the function arguments. \n",
        "X_train_cat.shape, X_train.shape"
      ],
      "id": "wYhNpmWSelHK"
    },
    {
      "cell_type": "code",
      "execution_count": null,
      "metadata": {
        "id": "L6KOuHkCsUPR"
      },
      "outputs": [],
      "source": [
        "mdl_lasso = Lasso(alpha = mdl.alpha_)\n",
        "mdl_lasso.fit(X_train, y_train)\n",
        "# mdl.get_params()\n",
        "preds = mdl_lasso.predict(X_test)\n",
        "preds_train = mdl_lasso.predict(X_train)\n",
        "\n",
        "abs_diff = abs(preds-y_test)\n",
        "abs_diff_train = abs(preds_train-y_train)\n",
        "\n",
        "rmse_calc = np.sqrt(np.mean(np.square(preds - y_test)))\n",
        "rmse_train = np.sqrt(np.mean(np.square(preds_train - y_train)))"
      ],
      "id": "L6KOuHkCsUPR"
    },
    {
      "cell_type": "code",
      "execution_count": null,
      "metadata": {
        "colab": {
          "base_uri": "https://localhost:8080/"
        },
        "id": "z_OU1vhzcqb9",
        "outputId": "5f57226f-22ce-45ab-835a-789a4c6166ef"
      },
      "outputs": [
        {
          "data": {
            "text/plain": [
              "1.1646529057502428"
            ]
          },
          "execution_count": 39,
          "metadata": {},
          "output_type": "execute_result"
        }
      ],
      "source": [
        "rmse_calc"
      ],
      "id": "z_OU1vhzcqb9"
    },
    {
      "cell_type": "markdown",
      "metadata": {
        "id": "floating-vinyl"
      },
      "source": [
        "# Part 1.3 - Interpreting Model Coefficents\n",
        "\n",
        "In this section we will interpret the coefficients from the final model you trained on all of the training data.\n",
        "\n",
        "- **1.3.1** - How many non-zero coefficients are in this final model?\n",
        "- **1.3.2** - What percentage of the coefficients are non-zero in this final model?\n",
        "- **1.3.3** - Who were the three most critical review authors, as estimated by the model? How do you know?\n",
        "- **1.3.4** - Who were the three artists that reviewers tended to like the most?  How do you know?\n",
        "- **1.3.5** - What genre did Pitchfork reviewers tend to like the most? Which genre did they like the least?\n"
      ],
      "id": "floating-vinyl"
    },
    {
      "cell_type": "code",
      "execution_count": null,
      "metadata": {
        "colab": {
          "base_uri": "https://localhost:8080/"
        },
        "id": "pdzBV53Xehmf",
        "outputId": "7f620ca4-d2b5-49aa-a124-d8d80379b2f6"
      },
      "outputs": [
        {
          "data": {
            "text/plain": [
              "514"
            ]
          },
          "execution_count": 40,
          "metadata": {},
          "output_type": "execute_result"
        }
      ],
      "source": [
        "# 1.3.1\n",
        "sum(mdl_lasso.coef_ != 0)"
      ],
      "id": "pdzBV53Xehmf"
    },
    {
      "cell_type": "code",
      "execution_count": null,
      "metadata": {
        "colab": {
          "base_uri": "https://localhost:8080/"
        },
        "id": "formal-stable",
        "outputId": "d43b5356-ed65-4545-a3e0-f6f8c96ae98a"
      },
      "outputs": [
        {
          "data": {
            "text/plain": [
              "0.743849493487699"
            ]
          },
          "execution_count": 41,
          "metadata": {},
          "output_type": "execute_result"
        }
      ],
      "source": [
        "# 1.3.2\n",
        "sum(mdl_lasso.coef_ != 0)/len(mdl_lasso.coef_)"
      ],
      "id": "formal-stable"
    },
    {
      "cell_type": "code",
      "execution_count": null,
      "metadata": {
        "id": "SXLhQBK5s-2A"
      },
      "outputs": [],
      "source": [
        "all_one_hot_vars = []\n",
        "for i in range(4):\n",
        "    all_one_hot_vars += encoder.categories_[i].tolist()\n",
        "\n",
        "all_column_names = []\n",
        "for n,i in enumerate(CATEGORICAL_FEATURES):\n",
        "    all_column_names+= [i] * len(encoder.categories_[n])\n",
        "all_column_names = CONTINUOUS_FEATURES + all_column_names\n",
        "\n",
        "res_1_3_3 = pd.DataFrame([CONTINUOUS_FEATURES + all_one_hot_vars,all_column_names, mdl_lasso.coef_] , index = ['Col_name','Parent_column','Coeff']).T"
      ],
      "id": "SXLhQBK5s-2A"
    },
    {
      "cell_type": "code",
      "execution_count": null,
      "metadata": {
        "colab": {
          "base_uri": "https://localhost:8080/",
          "height": 144
        },
        "id": "I_rZV-QXut2t",
        "outputId": "6e023ad9-b209-4b61-ad9a-8494fa9b2e6e"
      },
      "outputs": [
        {
          "data": {
            "text/html": [
              "\n",
              "  <div id=\"df-5cb51730-9a8a-4c8a-8556-49325690fe0f\">\n",
              "    <div class=\"colab-df-container\">\n",
              "      <div>\n",
              "<style scoped>\n",
              "    .dataframe tbody tr th:only-of-type {\n",
              "        vertical-align: middle;\n",
              "    }\n",
              "\n",
              "    .dataframe tbody tr th {\n",
              "        vertical-align: top;\n",
              "    }\n",
              "\n",
              "    .dataframe thead th {\n",
              "        text-align: right;\n",
              "    }\n",
              "</style>\n",
              "<table border=\"1\" class=\"dataframe\">\n",
              "  <thead>\n",
              "    <tr style=\"text-align: right;\">\n",
              "      <th></th>\n",
              "      <th>Col_name</th>\n",
              "      <th>Parent_column</th>\n",
              "      <th>Coeff</th>\n",
              "    </tr>\n",
              "  </thead>\n",
              "  <tbody>\n",
              "    <tr>\n",
              "      <th>298</th>\n",
              "      <td>Philip Sherburne</td>\n",
              "      <td>reviewauthor</td>\n",
              "      <td>0.058356</td>\n",
              "    </tr>\n",
              "    <tr>\n",
              "      <th>211</th>\n",
              "      <td>Jenn Pelly</td>\n",
              "      <td>reviewauthor</td>\n",
              "      <td>0.054472</td>\n",
              "    </tr>\n",
              "    <tr>\n",
              "      <th>248</th>\n",
              "      <td>Marc Masters</td>\n",
              "      <td>reviewauthor</td>\n",
              "      <td>0.040017</td>\n",
              "    </tr>\n",
              "  </tbody>\n",
              "</table>\n",
              "</div>\n",
              "      <button class=\"colab-df-convert\" onclick=\"convertToInteractive('df-5cb51730-9a8a-4c8a-8556-49325690fe0f')\"\n",
              "              title=\"Convert this dataframe to an interactive table.\"\n",
              "              style=\"display:none;\">\n",
              "        \n",
              "  <svg xmlns=\"http://www.w3.org/2000/svg\" height=\"24px\"viewBox=\"0 0 24 24\"\n",
              "       width=\"24px\">\n",
              "    <path d=\"M0 0h24v24H0V0z\" fill=\"none\"/>\n",
              "    <path d=\"M18.56 5.44l.94 2.06.94-2.06 2.06-.94-2.06-.94-.94-2.06-.94 2.06-2.06.94zm-11 1L8.5 8.5l.94-2.06 2.06-.94-2.06-.94L8.5 2.5l-.94 2.06-2.06.94zm10 10l.94 2.06.94-2.06 2.06-.94-2.06-.94-.94-2.06-.94 2.06-2.06.94z\"/><path d=\"M17.41 7.96l-1.37-1.37c-.4-.4-.92-.59-1.43-.59-.52 0-1.04.2-1.43.59L10.3 9.45l-7.72 7.72c-.78.78-.78 2.05 0 2.83L4 21.41c.39.39.9.59 1.41.59.51 0 1.02-.2 1.41-.59l7.78-7.78 2.81-2.81c.8-.78.8-2.07 0-2.86zM5.41 20L4 18.59l7.72-7.72 1.47 1.35L5.41 20z\"/>\n",
              "  </svg>\n",
              "      </button>\n",
              "      \n",
              "  <style>\n",
              "    .colab-df-container {\n",
              "      display:flex;\n",
              "      flex-wrap:wrap;\n",
              "      gap: 12px;\n",
              "    }\n",
              "\n",
              "    .colab-df-convert {\n",
              "      background-color: #E8F0FE;\n",
              "      border: none;\n",
              "      border-radius: 50%;\n",
              "      cursor: pointer;\n",
              "      display: none;\n",
              "      fill: #1967D2;\n",
              "      height: 32px;\n",
              "      padding: 0 0 0 0;\n",
              "      width: 32px;\n",
              "    }\n",
              "\n",
              "    .colab-df-convert:hover {\n",
              "      background-color: #E2EBFA;\n",
              "      box-shadow: 0px 1px 2px rgba(60, 64, 67, 0.3), 0px 1px 3px 1px rgba(60, 64, 67, 0.15);\n",
              "      fill: #174EA6;\n",
              "    }\n",
              "\n",
              "    [theme=dark] .colab-df-convert {\n",
              "      background-color: #3B4455;\n",
              "      fill: #D2E3FC;\n",
              "    }\n",
              "\n",
              "    [theme=dark] .colab-df-convert:hover {\n",
              "      background-color: #434B5C;\n",
              "      box-shadow: 0px 1px 3px 1px rgba(0, 0, 0, 0.15);\n",
              "      filter: drop-shadow(0px 1px 2px rgba(0, 0, 0, 0.3));\n",
              "      fill: #FFFFFF;\n",
              "    }\n",
              "  </style>\n",
              "\n",
              "      <script>\n",
              "        const buttonEl =\n",
              "          document.querySelector('#df-5cb51730-9a8a-4c8a-8556-49325690fe0f button.colab-df-convert');\n",
              "        buttonEl.style.display =\n",
              "          google.colab.kernel.accessAllowed ? 'block' : 'none';\n",
              "\n",
              "        async function convertToInteractive(key) {\n",
              "          const element = document.querySelector('#df-5cb51730-9a8a-4c8a-8556-49325690fe0f');\n",
              "          const dataTable =\n",
              "            await google.colab.kernel.invokeFunction('convertToInteractive',\n",
              "                                                     [key], {});\n",
              "          if (!dataTable) return;\n",
              "\n",
              "          const docLinkHtml = 'Like what you see? Visit the ' +\n",
              "            '<a target=\"_blank\" href=https://colab.research.google.com/notebooks/data_table.ipynb>data table notebook</a>'\n",
              "            + ' to learn more about interactive tables.';\n",
              "          element.innerHTML = '';\n",
              "          dataTable['output_type'] = 'display_data';\n",
              "          await google.colab.output.renderOutput(dataTable, element);\n",
              "          const docLink = document.createElement('div');\n",
              "          docLink.innerHTML = docLinkHtml;\n",
              "          element.appendChild(docLink);\n",
              "        }\n",
              "      </script>\n",
              "    </div>\n",
              "  </div>\n",
              "  "
            ],
            "text/plain": [
              "             Col_name Parent_column     Coeff\n",
              "298  Philip Sherburne  reviewauthor  0.058356\n",
              "211        Jenn Pelly  reviewauthor  0.054472\n",
              "248      Marc Masters  reviewauthor  0.040017"
            ]
          },
          "execution_count": 43,
          "metadata": {},
          "output_type": "execute_result"
        }
      ],
      "source": [
        "# 1.3.3\n",
        "res_1_3_3[res_1_3_3['Parent_column'] == 'reviewauthor'].sort_values('Coeff', ascending = False)[:3]"
      ],
      "id": "I_rZV-QXut2t"
    },
    {
      "cell_type": "markdown",
      "metadata": {
        "id": "appropriate-lesbian"
      },
      "source": [
        "# Part 1.4 - \"Manual\" Cross-Validation + Holdout for Model Selection and Evaluation\n",
        "\n",
        "We will finally use cross validation for both algorithm and model selection, with a hold-out test set for a final evaluation. We will use **5-fold cross validation** to identify the best parameters and hyperparameters for a set of models. We will then take our final models and use a final hold-out test set (the same one as above) to estimate the generalization error of the models.\n",
        "\n",
        "Specifically, your task is first to write code that trains and evaluates the following models, one for each of the specified hyper parameters sets:\n",
        "\n",
        "- `Decision Tree regression` - All combinations of a `max_depth` of 5, 10, or 20, and a `criterion` of `\"squared error\"` or `\"absolute error\"`. Use the [DecisionTreeRegressor](https://scikit-learn.org/stable/modules/generated/sklearn.tree.DecisionTreeRegressor.html#sklearn.tree.DecisionTreeRegressor).\n",
        "- Ridge regression - Use the following choices of L2 penalty: $[10^{-5}, 10^{-4}, ..., 10^4, 10^5]$. In Python, you can create a list of these numbers using `np.logspace(-5, 5, 11)`. Use the [Ridge](https://scikit-learn.org/stable/modules/generated/sklearn.linear_model.Ridge.html#sklearn.linear_model.Ridge) class from sklearn to train a Ridge Regression model. The parameters you need to pass when constructing the Ridge model are `alpha`, which lets you specify what you want the L2 penalty to be, and `random_state=0` to avoid randomness.\n",
        "- kNN regression - Values of `n_neighbors` of 1, 5, 10, and 15. Use the [KNeighborsRegressor](https://scikit-learn.org/stable/modules/generated/sklearn.neighbors.KNeighborsRegressor.html) class.\n",
        "\n",
        "Additional notes:\n",
        "1. All models should use the feature sets described in Part 1.3 (the same ...one-hot encoded... categorical variables, and the scaled continuous variables)\n",
        "2. As opposed to using the `KFold` class from `sklearn` like we did in class, we have instead provided you with pre-existing data sets; you should therefore use the pre-split data in the provided CSV files ``1.2_fold0.csv ... 1.2_fold4.csv``\n",
        "\n",
        "**What to submit**:\n",
        "\n",
        "1. Write out the result to a file called `part_1.4_results.csv` and submit this along with your assignment. The file should have the following columns:\n",
        "- `model_name` - The name of the model, one of `DTR` (Decision Tree Regression), `Ridge`, or `KNN`.\n",
        "- `hyperparameter_setting` - a column describing the hyperparameters of the model. For models with multiple hyperparameters, combine them using an underscore (you can do this with the code `\"_\".join(hyperparameters)`).\n",
        "- `mean_training_rmse` - a column that gives the mean RMSE on the k-fold training data. You should take the average of the model’s errors on the different folds, using root mean squared error again as your evaluation metric.\n",
        "- `sd_training_rmse` - a column that gives the standard deviation RMSE on the k-fold training data.\n",
        "- `test_rmse` - a column that gives the RMSE of a linear regression model trained on this feature set on the test data\n",
        "\n",
        "\n",
        "2. Answer the following questions:\n",
        "- **1.4.1** Report, for each model, the hyper parameter setting that resulted in the best performance\n",
        "- **1.4.2** Which model performed the best overall on the cross-validation? \n",
        "- **1.4.3** Which model performed the best overall on the final test set? \n",
        "- **1.4.4** With respect to your answer for 1.4.3, why do you think that might be? (*Note: there is more than one correct way to answer this question*)\n",
        "- **1.4.5** Which model/hyperparameter setting had the highest standard deviation across the different folds of the cross validation?\n",
        "- **1.4.6** With respect to your answer for 1.4.6, why do you think that might be? (*Note: there is more than one correct way to answer this question*)"
      ],
      "id": "appropriate-lesbian"
    },
    {
      "cell_type": "code",
      "execution_count": null,
      "metadata": {
        "id": "-2mQ1OHG0RFg"
      },
      "outputs": [],
      "source": [
        "import pandas as pd\n",
        "import numpy as np\n",
        "\n",
        "from sklearn.tree import DecisionTreeRegressor\n",
        "from sklearn.linear_model import Ridge\n",
        "from sklearn.neighbors import KNeighborsRegressor\n",
        "\n",
        "from sklearn.pipeline import Pipeline,make_pipeline\n",
        "from  sklearn.compose import ColumnTransformer\n",
        "from sklearn.preprocessing import StandardScaler, OneHotEncoder\n",
        "\n",
        "folds = []\n",
        "for i in range(5):\n",
        "    folds.append(pd.read_csv('1.2_fold{}.csv'.format(i)))\n",
        "\n",
        "CONTINUOUS_FEATURES = ['releaseyear', 'danceability', 'energy', 'key', 'loudness',\n",
        "       'speechiness', 'acousticness', 'instrumentalness', 'liveness',\n",
        "       'valence', 'tempo']\n",
        "CATEGORICAL_FEATURES = ['artist', 'reviewauthor', 'recordlabel', 'genre']"
      ],
      "id": "-2mQ1OHG0RFg"
    },
    {
      "cell_type": "code",
      "execution_count": null,
      "metadata": {
        "id": "rDyytCZX0hYz"
      },
      "outputs": [],
      "source": [
        "basic_pipeline = make_pipeline(\n",
        "        ColumnTransformer([('numerical', StandardScaler(), CONTINUOUS_FEATURES),\n",
        "                           (\"categorical\", OneHotEncoder(categories='auto', drop='if_binary', sparse=False,handle_unknown = 'ignore'),CATEGORICAL_FEATURES)]),\n",
        "    )\n",
        "\n",
        "reg2 = Ridge(random_state=0)\n",
        "reg3 = KNeighborsRegressor()\n",
        "reg1 = DecisionTreeRegressor(random_state=0)\n",
        "\n",
        "\n",
        "\n",
        "# Building the pipelines\n",
        "pipe1 = Pipeline([(\"pipe\",basic_pipeline),\n",
        "                  ('reg1', reg1)])\n",
        "\n",
        "pipe2 = Pipeline([(\"pipe\",basic_pipeline),\n",
        "                  ('reg2', reg2)])\n",
        "\n",
        "pipe3 = Pipeline([(\"pipe\",basic_pipeline),\n",
        "                  ('reg3', reg3)])\n",
        "\n",
        "\n",
        "# Setting up the parameter grids\n",
        "param_grid1 = [{'reg1__max_depth' : [5,10,15],\n",
        "                'reg1__criterion' : ['squared_error','absolute_error' ]}]\n",
        "param_grid2 = [{'reg2__alpha' : np.logspace(-5,5,11).tolist()}]\n",
        "param_grid3 = [{'reg3__n_neighbors': [ 1,5,10,15]}]\n",
        "\n"
      ],
      "id": "rDyytCZX0hYz"
    },
    {
      "cell_type": "code",
      "execution_count": null,
      "metadata": {
        "id": "uEnuFMyN0veO"
      },
      "outputs": [],
      "source": [
        "from sklearn.model_selection import GridSearchCV\n",
        "from sklearn.model_selection import KFold\n",
        "gridcvs = {}\n",
        "inner_cv = KFold(n_splits=5, shuffle=False)\n",
        "\n",
        "for pgrid, est, name in zip((param_grid1, param_grid2, param_grid3),\n",
        "                            (pipe1, pipe2,pipe3),\n",
        "                            ('DTR', 'Ridge','KNN')):\n",
        "    gcv = GridSearchCV(estimator=est,\n",
        "                       param_grid=pgrid,\n",
        "                       scoring='neg_mean_squared_error',\n",
        "                       cv=inner_cv,\n",
        "                       verbose=3,\n",
        "                       refit=True)\n",
        "    gridcvs[name] = gcv"
      ],
      "id": "uEnuFMyN0veO"
    },
    {
      "cell_type": "code",
      "execution_count": null,
      "metadata": {
        "colab": {
          "base_uri": "https://localhost:8080/",
          "height": 1000
        },
        "id": "t_VYmn5J0x1e",
        "outputId": "c849e3d1-54c3-43e5-dcea-87c4dab5214e"
      },
      "outputs": [
        {
          "name": "stdout",
          "output_type": "stream",
          "text": [
            "-------------------------------------------------- \n",
            "\n",
            "Algorithm: DTR\n",
            "    Inner loop:\n",
            "Fitting 5 folds for each of 6 candidates, totalling 30 fits\n"
          ]
        },
        {
          "name": "stderr",
          "output_type": "stream",
          "text": [
            "/usr/local/lib/python3.7/dist-packages/sklearn/preprocessing/_encoders.py:174: UserWarning: Found unknown categories in columns [0] during transform. These unknown categories will be encoded as all zeros\n",
            "  UserWarning,\n"
          ]
        },
        {
          "name": "stdout",
          "output_type": "stream",
          "text": [
            "[CV 1/5] END reg1__criterion=squared_error, reg1__max_depth=5;, score=-1.446 total time=   0.6s\n",
            "[CV 2/5] END reg1__criterion=squared_error, reg1__max_depth=5;, score=-1.377 total time=   0.7s\n",
            "[CV 3/5] END reg1__criterion=squared_error, reg1__max_depth=5;, score=-1.557 total time=   0.6s\n",
            "[CV 4/5] END reg1__criterion=squared_error, reg1__max_depth=5;, score=-1.489 total time=   0.6s\n",
            "[CV 5/5] END reg1__criterion=squared_error, reg1__max_depth=5;, score=-1.426 total time=   0.7s\n"
          ]
        },
        {
          "name": "stderr",
          "output_type": "stream",
          "text": [
            "/usr/local/lib/python3.7/dist-packages/sklearn/preprocessing/_encoders.py:174: UserWarning: Found unknown categories in columns [0] during transform. These unknown categories will be encoded as all zeros\n",
            "  UserWarning,\n"
          ]
        },
        {
          "name": "stdout",
          "output_type": "stream",
          "text": [
            "[CV 1/5] END reg1__criterion=squared_error, reg1__max_depth=10;, score=-1.543 total time=   0.9s\n",
            "[CV 2/5] END reg1__criterion=squared_error, reg1__max_depth=10;, score=-1.488 total time=   0.9s\n",
            "[CV 3/5] END reg1__criterion=squared_error, reg1__max_depth=10;, score=-1.648 total time=   1.0s\n",
            "[CV 4/5] END reg1__criterion=squared_error, reg1__max_depth=10;, score=-1.609 total time=   0.9s\n",
            "[CV 5/5] END reg1__criterion=squared_error, reg1__max_depth=10;, score=-1.495 total time=   1.0s\n"
          ]
        },
        {
          "name": "stderr",
          "output_type": "stream",
          "text": [
            "/usr/local/lib/python3.7/dist-packages/sklearn/preprocessing/_encoders.py:174: UserWarning: Found unknown categories in columns [0] during transform. These unknown categories will be encoded as all zeros\n",
            "  UserWarning,\n"
          ]
        },
        {
          "name": "stdout",
          "output_type": "stream",
          "text": [
            "[CV 1/5] END reg1__criterion=squared_error, reg1__max_depth=15;, score=-1.712 total time=   1.2s\n",
            "[CV 2/5] END reg1__criterion=squared_error, reg1__max_depth=15;, score=-1.607 total time=   1.1s\n",
            "[CV 3/5] END reg1__criterion=squared_error, reg1__max_depth=15;, score=-1.752 total time=   1.3s\n",
            "[CV 4/5] END reg1__criterion=squared_error, reg1__max_depth=15;, score=-1.725 total time=   1.1s\n",
            "[CV 5/5] END reg1__criterion=squared_error, reg1__max_depth=15;, score=-1.688 total time=   1.3s\n"
          ]
        },
        {
          "name": "stderr",
          "output_type": "stream",
          "text": [
            "/usr/local/lib/python3.7/dist-packages/sklearn/preprocessing/_encoders.py:174: UserWarning: Found unknown categories in columns [0] during transform. These unknown categories will be encoded as all zeros\n",
            "  UserWarning,\n"
          ]
        },
        {
          "name": "stdout",
          "output_type": "stream",
          "text": [
            "[CV 1/5] END reg1__criterion=absolute_error, reg1__max_depth=5;, score=-1.460 total time= 2.5min\n",
            "[CV 2/5] END reg1__criterion=absolute_error, reg1__max_depth=5;, score=-1.458 total time= 2.4min\n",
            "[CV 3/5] END reg1__criterion=absolute_error, reg1__max_depth=5;, score=-1.587 total time= 2.6min\n",
            "[CV 4/5] END reg1__criterion=absolute_error, reg1__max_depth=5;, score=-1.544 total time= 2.6min\n",
            "[CV 5/5] END reg1__criterion=absolute_error, reg1__max_depth=5;, score=-1.471 total time= 2.7min\n"
          ]
        },
        {
          "name": "stderr",
          "output_type": "stream",
          "text": [
            "/usr/local/lib/python3.7/dist-packages/sklearn/preprocessing/_encoders.py:174: UserWarning: Found unknown categories in columns [0] during transform. These unknown categories will be encoded as all zeros\n",
            "  UserWarning,\n"
          ]
        },
        {
          "name": "stdout",
          "output_type": "stream",
          "text": [
            "[CV 1/5] END reg1__criterion=absolute_error, reg1__max_depth=10;, score=-1.492 total time= 3.1min\n",
            "[CV 2/5] END reg1__criterion=absolute_error, reg1__max_depth=10;, score=-1.506 total time= 3.0min\n",
            "[CV 3/5] END reg1__criterion=absolute_error, reg1__max_depth=10;, score=-1.606 total time= 3.3min\n",
            "[CV 4/5] END reg1__criterion=absolute_error, reg1__max_depth=10;, score=-1.613 total time= 3.2min\n",
            "[CV 5/5] END reg1__criterion=absolute_error, reg1__max_depth=10;, score=-1.576 total time= 3.6min\n"
          ]
        },
        {
          "name": "stderr",
          "output_type": "stream",
          "text": [
            "/usr/local/lib/python3.7/dist-packages/sklearn/preprocessing/_encoders.py:174: UserWarning: Found unknown categories in columns [0] during transform. These unknown categories will be encoded as all zeros\n",
            "  UserWarning,\n"
          ]
        },
        {
          "name": "stdout",
          "output_type": "stream",
          "text": [
            "[CV 1/5] END reg1__criterion=absolute_error, reg1__max_depth=15;, score=-1.586 total time= 3.6min\n",
            "[CV 2/5] END reg1__criterion=absolute_error, reg1__max_depth=15;, score=-1.622 total time= 3.4min\n",
            "[CV 3/5] END reg1__criterion=absolute_error, reg1__max_depth=15;, score=-1.786 total time= 3.6min\n",
            "[CV 4/5] END reg1__criterion=absolute_error, reg1__max_depth=15;, score=-1.780 total time= 3.6min\n",
            "[CV 5/5] END reg1__criterion=absolute_error, reg1__max_depth=15;, score=-1.683 total time= 3.9min\n",
            "\n",
            "        Best MSE (avg. of inner test folds) 1.458993453714207\n",
            "        Best parameters: {'reg1__criterion': 'squared_error', 'reg1__max_depth': 5}\n"
          ]
        },
        {
          "ename": "ValueError",
          "evalue": "ignored",
          "output_type": "error",
          "traceback": [
            "\u001b[0;31m---------------------------------------------------------------------------\u001b[0m",
            "\u001b[0;31mValueError\u001b[0m                                Traceback (most recent call last)",
            "\u001b[0;32m<ipython-input-53-8ce4fc39d2f0>\u001b[0m in \u001b[0;36m<module>\u001b[0;34m()\u001b[0m\n\u001b[1;32m     25\u001b[0m         \u001b[0mhyperparameter_setting\u001b[0m \u001b[0;34m+=\u001b[0m \u001b[0mstr\u001b[0m\u001b[0;34m(\u001b[0m\u001b[0mi\u001b[0m\u001b[0;34m)\u001b[0m\u001b[0;34m[\u001b[0m\u001b[0;36m6\u001b[0m\u001b[0;34m:\u001b[0m\u001b[0;34m]\u001b[0m \u001b[0;34m+\u001b[0m \u001b[0;34m'_'\u001b[0m \u001b[0;34m+\u001b[0m\u001b[0mstr\u001b[0m\u001b[0;34m(\u001b[0m\u001b[0mj\u001b[0m\u001b[0;34m)\u001b[0m \u001b[0;34m+\u001b[0m \u001b[0;34m'_'\u001b[0m\u001b[0;34m\u001b[0m\u001b[0;34m\u001b[0m\u001b[0m\n\u001b[1;32m     26\u001b[0m \u001b[0;34m\u001b[0m\u001b[0m\n\u001b[0;32m---> 27\u001b[0;31m     \u001b[0mtest_rmse\u001b[0m \u001b[0;34m=\u001b[0m \u001b[0mgridcvs\u001b[0m\u001b[0;34m[\u001b[0m\u001b[0mname\u001b[0m\u001b[0;34m]\u001b[0m\u001b[0;34m.\u001b[0m\u001b[0mbest_estimator_\u001b[0m\u001b[0;34m.\u001b[0m\u001b[0mscore\u001b[0m\u001b[0;34m(\u001b[0m\u001b[0mX_test\u001b[0m\u001b[0;34m,\u001b[0m \u001b[0my_test\u001b[0m\u001b[0;34m)\u001b[0m\u001b[0;34m\u001b[0m\u001b[0;34m\u001b[0m\u001b[0m\n\u001b[0m\u001b[1;32m     28\u001b[0m \u001b[0;34m\u001b[0m\u001b[0m\n\u001b[1;32m     29\u001b[0m     cv_results.append({'model_name':name,\n",
            "\u001b[0;32m/usr/local/lib/python3.7/dist-packages/sklearn/utils/metaestimators.py\u001b[0m in \u001b[0;36m<lambda>\u001b[0;34m(*args, **kwargs)\u001b[0m\n\u001b[1;32m    111\u001b[0m \u001b[0;34m\u001b[0m\u001b[0m\n\u001b[1;32m    112\u001b[0m             \u001b[0;31m# lambda, but not partial, allows help() to work with update_wrapper\u001b[0m\u001b[0;34m\u001b[0m\u001b[0;34m\u001b[0m\u001b[0;34m\u001b[0m\u001b[0m\n\u001b[0;32m--> 113\u001b[0;31m             \u001b[0mout\u001b[0m \u001b[0;34m=\u001b[0m \u001b[0;32mlambda\u001b[0m \u001b[0;34m*\u001b[0m\u001b[0margs\u001b[0m\u001b[0;34m,\u001b[0m \u001b[0;34m**\u001b[0m\u001b[0mkwargs\u001b[0m\u001b[0;34m:\u001b[0m \u001b[0mself\u001b[0m\u001b[0;34m.\u001b[0m\u001b[0mfn\u001b[0m\u001b[0;34m(\u001b[0m\u001b[0mobj\u001b[0m\u001b[0;34m,\u001b[0m \u001b[0;34m*\u001b[0m\u001b[0margs\u001b[0m\u001b[0;34m,\u001b[0m \u001b[0;34m**\u001b[0m\u001b[0mkwargs\u001b[0m\u001b[0;34m)\u001b[0m  \u001b[0;31m# noqa\u001b[0m\u001b[0;34m\u001b[0m\u001b[0;34m\u001b[0m\u001b[0m\n\u001b[0m\u001b[1;32m    114\u001b[0m         \u001b[0;32melse\u001b[0m\u001b[0;34m:\u001b[0m\u001b[0;34m\u001b[0m\u001b[0;34m\u001b[0m\u001b[0m\n\u001b[1;32m    115\u001b[0m \u001b[0;34m\u001b[0m\u001b[0m\n",
            "\u001b[0;32m/usr/local/lib/python3.7/dist-packages/sklearn/pipeline.py\u001b[0m in \u001b[0;36mscore\u001b[0;34m(self, X, y, sample_weight)\u001b[0m\n\u001b[1;32m    705\u001b[0m         \u001b[0mXt\u001b[0m \u001b[0;34m=\u001b[0m \u001b[0mX\u001b[0m\u001b[0;34m\u001b[0m\u001b[0;34m\u001b[0m\u001b[0m\n\u001b[1;32m    706\u001b[0m         \u001b[0;32mfor\u001b[0m \u001b[0m_\u001b[0m\u001b[0;34m,\u001b[0m \u001b[0mname\u001b[0m\u001b[0;34m,\u001b[0m \u001b[0mtransform\u001b[0m \u001b[0;32min\u001b[0m \u001b[0mself\u001b[0m\u001b[0;34m.\u001b[0m\u001b[0m_iter\u001b[0m\u001b[0;34m(\u001b[0m\u001b[0mwith_final\u001b[0m\u001b[0;34m=\u001b[0m\u001b[0;32mFalse\u001b[0m\u001b[0;34m)\u001b[0m\u001b[0;34m:\u001b[0m\u001b[0;34m\u001b[0m\u001b[0;34m\u001b[0m\u001b[0m\n\u001b[0;32m--> 707\u001b[0;31m             \u001b[0mXt\u001b[0m \u001b[0;34m=\u001b[0m \u001b[0mtransform\u001b[0m\u001b[0;34m.\u001b[0m\u001b[0mtransform\u001b[0m\u001b[0;34m(\u001b[0m\u001b[0mXt\u001b[0m\u001b[0;34m)\u001b[0m\u001b[0;34m\u001b[0m\u001b[0;34m\u001b[0m\u001b[0m\n\u001b[0m\u001b[1;32m    708\u001b[0m         \u001b[0mscore_params\u001b[0m \u001b[0;34m=\u001b[0m \u001b[0;34m{\u001b[0m\u001b[0;34m}\u001b[0m\u001b[0;34m\u001b[0m\u001b[0;34m\u001b[0m\u001b[0m\n\u001b[1;32m    709\u001b[0m         \u001b[0;32mif\u001b[0m \u001b[0msample_weight\u001b[0m \u001b[0;32mis\u001b[0m \u001b[0;32mnot\u001b[0m \u001b[0;32mNone\u001b[0m\u001b[0;34m:\u001b[0m\u001b[0;34m\u001b[0m\u001b[0;34m\u001b[0m\u001b[0m\n",
            "\u001b[0;32m/usr/local/lib/python3.7/dist-packages/sklearn/utils/metaestimators.py\u001b[0m in \u001b[0;36m<lambda>\u001b[0;34m(*args, **kwargs)\u001b[0m\n\u001b[1;32m    111\u001b[0m \u001b[0;34m\u001b[0m\u001b[0m\n\u001b[1;32m    112\u001b[0m             \u001b[0;31m# lambda, but not partial, allows help() to work with update_wrapper\u001b[0m\u001b[0;34m\u001b[0m\u001b[0;34m\u001b[0m\u001b[0;34m\u001b[0m\u001b[0m\n\u001b[0;32m--> 113\u001b[0;31m             \u001b[0mout\u001b[0m \u001b[0;34m=\u001b[0m \u001b[0;32mlambda\u001b[0m \u001b[0;34m*\u001b[0m\u001b[0margs\u001b[0m\u001b[0;34m,\u001b[0m \u001b[0;34m**\u001b[0m\u001b[0mkwargs\u001b[0m\u001b[0;34m:\u001b[0m \u001b[0mself\u001b[0m\u001b[0;34m.\u001b[0m\u001b[0mfn\u001b[0m\u001b[0;34m(\u001b[0m\u001b[0mobj\u001b[0m\u001b[0;34m,\u001b[0m \u001b[0;34m*\u001b[0m\u001b[0margs\u001b[0m\u001b[0;34m,\u001b[0m \u001b[0;34m**\u001b[0m\u001b[0mkwargs\u001b[0m\u001b[0;34m)\u001b[0m  \u001b[0;31m# noqa\u001b[0m\u001b[0;34m\u001b[0m\u001b[0;34m\u001b[0m\u001b[0m\n\u001b[0m\u001b[1;32m    114\u001b[0m         \u001b[0;32melse\u001b[0m\u001b[0;34m:\u001b[0m\u001b[0;34m\u001b[0m\u001b[0;34m\u001b[0m\u001b[0m\n\u001b[1;32m    115\u001b[0m \u001b[0;34m\u001b[0m\u001b[0m\n",
            "\u001b[0;32m/usr/local/lib/python3.7/dist-packages/sklearn/pipeline.py\u001b[0m in \u001b[0;36mtransform\u001b[0;34m(self, X)\u001b[0m\n\u001b[1;32m    645\u001b[0m         \u001b[0mXt\u001b[0m \u001b[0;34m=\u001b[0m \u001b[0mX\u001b[0m\u001b[0;34m\u001b[0m\u001b[0;34m\u001b[0m\u001b[0m\n\u001b[1;32m    646\u001b[0m         \u001b[0;32mfor\u001b[0m \u001b[0m_\u001b[0m\u001b[0;34m,\u001b[0m \u001b[0m_\u001b[0m\u001b[0;34m,\u001b[0m \u001b[0mtransform\u001b[0m \u001b[0;32min\u001b[0m \u001b[0mself\u001b[0m\u001b[0;34m.\u001b[0m\u001b[0m_iter\u001b[0m\u001b[0;34m(\u001b[0m\u001b[0;34m)\u001b[0m\u001b[0;34m:\u001b[0m\u001b[0;34m\u001b[0m\u001b[0;34m\u001b[0m\u001b[0m\n\u001b[0;32m--> 647\u001b[0;31m             \u001b[0mXt\u001b[0m \u001b[0;34m=\u001b[0m \u001b[0mtransform\u001b[0m\u001b[0;34m.\u001b[0m\u001b[0mtransform\u001b[0m\u001b[0;34m(\u001b[0m\u001b[0mXt\u001b[0m\u001b[0;34m)\u001b[0m\u001b[0;34m\u001b[0m\u001b[0;34m\u001b[0m\u001b[0m\n\u001b[0m\u001b[1;32m    648\u001b[0m         \u001b[0;32mreturn\u001b[0m \u001b[0mXt\u001b[0m\u001b[0;34m\u001b[0m\u001b[0;34m\u001b[0m\u001b[0m\n\u001b[1;32m    649\u001b[0m \u001b[0;34m\u001b[0m\u001b[0m\n",
            "\u001b[0;32m/usr/local/lib/python3.7/dist-packages/sklearn/compose/_column_transformer.py\u001b[0m in \u001b[0;36mtransform\u001b[0;34m(self, X)\u001b[0m\n\u001b[1;32m    744\u001b[0m             \u001b[0;31m# ndarray was used for fitting or transforming, thus we only\u001b[0m\u001b[0;34m\u001b[0m\u001b[0;34m\u001b[0m\u001b[0;34m\u001b[0m\u001b[0m\n\u001b[1;32m    745\u001b[0m             \u001b[0;31m# check that n_features_in_ is consistent\u001b[0m\u001b[0;34m\u001b[0m\u001b[0;34m\u001b[0m\u001b[0;34m\u001b[0m\u001b[0m\n\u001b[0;32m--> 746\u001b[0;31m             \u001b[0mself\u001b[0m\u001b[0;34m.\u001b[0m\u001b[0m_check_n_features\u001b[0m\u001b[0;34m(\u001b[0m\u001b[0mX\u001b[0m\u001b[0;34m,\u001b[0m \u001b[0mreset\u001b[0m\u001b[0;34m=\u001b[0m\u001b[0;32mFalse\u001b[0m\u001b[0;34m)\u001b[0m\u001b[0;34m\u001b[0m\u001b[0;34m\u001b[0m\u001b[0m\n\u001b[0m\u001b[1;32m    747\u001b[0m \u001b[0;34m\u001b[0m\u001b[0m\n\u001b[1;32m    748\u001b[0m         Xs = self._fit_transform(\n",
            "\u001b[0;32m/usr/local/lib/python3.7/dist-packages/sklearn/base.py\u001b[0m in \u001b[0;36m_check_n_features\u001b[0;34m(self, X, reset)\u001b[0m\n\u001b[1;32m    399\u001b[0m         \u001b[0;32mif\u001b[0m \u001b[0mn_features\u001b[0m \u001b[0;34m!=\u001b[0m \u001b[0mself\u001b[0m\u001b[0;34m.\u001b[0m\u001b[0mn_features_in_\u001b[0m\u001b[0;34m:\u001b[0m\u001b[0;34m\u001b[0m\u001b[0;34m\u001b[0m\u001b[0m\n\u001b[1;32m    400\u001b[0m             raise ValueError(\n\u001b[0;32m--> 401\u001b[0;31m                 \u001b[0;34mf\"X has {n_features} features, but {self.__class__.__name__} \"\u001b[0m\u001b[0;34m\u001b[0m\u001b[0;34m\u001b[0m\u001b[0m\n\u001b[0m\u001b[1;32m    402\u001b[0m                 \u001b[0;34mf\"is expecting {self.n_features_in_} features as input.\"\u001b[0m\u001b[0;34m\u001b[0m\u001b[0;34m\u001b[0m\u001b[0m\n\u001b[1;32m    403\u001b[0m             )\n",
            "\u001b[0;31mValueError\u001b[0m: X has 691 features, but ColumnTransformer is expecting 15 features as input."
          ]
        }
      ],
      "source": [
        "# train_data = pd.concat(folds)\n",
        "\n",
        "# train_X = train_data.drop(columns = ['score'])\n",
        "# train_y = train_data['score']\n",
        "\n",
        "# test_X = test_data.drop.drop(columns = ['score'])\n",
        "# test_y = test_data['score']\n",
        "\n",
        "# cv_results = []\n",
        "\n",
        "# for name, gs_est in sorted(gridcvs.items()):\n",
        "#     print(50 * '-', '\\n')\n",
        "#     print('Algorithm:', name)\n",
        "#     print('    Inner loop:')\n",
        "    \n",
        "#     outer_scores = []\n",
        "\n",
        "#     gridcvs[name].fit(train_X, \n",
        "#                       train_y) # run inner loop hyperparam tuning\n",
        "#     print('\\n        Best MSE (avg. of inner test folds) {}'.format(gridcvs[name].best_score_ *-1))\n",
        "#     print('        Best parameters:', gridcvs[name].best_params_)\n",
        "    \n",
        "#     res = pd.DataFrame(gridcvs[name].cv_results_)\n",
        "#     params = res.sort_values('mean_test_score').params.iloc[-1]\n",
        "\n",
        "#     hyperparameter_setting = '_'\n",
        "#     for i,j in zip(list(params.keys()), list(params.values())):\n",
        "#         hyperparameter_setting += str(i)[6:] + '_' +str(j) + '_'\n",
        "    \n",
        "#     test_rmse = gridcvs[name].best_estimator_.score(X_test, y_test)\n",
        "\n",
        "#     cv_results.append({'model_name':name,\n",
        "#                        'hyperparameter_setting':hyperparameter_setting,\n",
        "#                        'mean_training_rmse':abs(res.mean_test_score).min(),\n",
        "#                        'sd_training_rmse':res.sort_values('mean_test_score').std_test_score.iloc[-1],\n",
        "#                        'test_rmse':test_rmse})\n"
      ],
      "id": "t_VYmn5J0x1e"
    },
    {
      "cell_type": "code",
      "execution_count": null,
      "metadata": {
        "colab": {
          "base_uri": "https://localhost:8080/"
        },
        "id": "_8bE3a__ZY1o",
        "outputId": "5623a13a-8a35-4a38-a564-b837c05b8b62"
      },
      "outputs": [
        {
          "name": "stdout",
          "output_type": "stream",
          "text": [
            "-------------------------------------------------- \n",
            "\n",
            "Algorithm: KNN\n",
            "    Inner loop:\n",
            "Fitting 5 folds for each of 4 candidates, totalling 20 fits\n"
          ]
        },
        {
          "name": "stderr",
          "output_type": "stream",
          "text": [
            "/usr/local/lib/python3.7/dist-packages/sklearn/preprocessing/_encoders.py:174: UserWarning: Found unknown categories in columns [0] during transform. These unknown categories will be encoded as all zeros\n",
            "  UserWarning,\n"
          ]
        },
        {
          "name": "stdout",
          "output_type": "stream",
          "text": [
            "[CV 1/5] END ..............reg3__n_neighbors=1;, score=-2.475 total time=   3.6s\n",
            "[CV 2/5] END ..............reg3__n_neighbors=1;, score=-2.504 total time=   3.1s\n",
            "[CV 3/5] END ..............reg3__n_neighbors=1;, score=-2.576 total time=   3.2s\n",
            "[CV 4/5] END ..............reg3__n_neighbors=1;, score=-2.579 total time=   2.8s\n",
            "[CV 5/5] END ..............reg3__n_neighbors=1;, score=-2.646 total time=   2.2s\n"
          ]
        },
        {
          "name": "stderr",
          "output_type": "stream",
          "text": [
            "/usr/local/lib/python3.7/dist-packages/sklearn/preprocessing/_encoders.py:174: UserWarning: Found unknown categories in columns [0] during transform. These unknown categories will be encoded as all zeros\n",
            "  UserWarning,\n"
          ]
        },
        {
          "name": "stdout",
          "output_type": "stream",
          "text": [
            "[CV 1/5] END ..............reg3__n_neighbors=5;, score=-1.546 total time=   2.6s\n",
            "[CV 2/5] END ..............reg3__n_neighbors=5;, score=-1.524 total time=   2.5s\n",
            "[CV 3/5] END ..............reg3__n_neighbors=5;, score=-1.683 total time=   2.6s\n",
            "[CV 4/5] END ..............reg3__n_neighbors=5;, score=-1.591 total time=   2.6s\n",
            "[CV 5/5] END ..............reg3__n_neighbors=5;, score=-1.619 total time=   2.7s\n"
          ]
        },
        {
          "name": "stderr",
          "output_type": "stream",
          "text": [
            "/usr/local/lib/python3.7/dist-packages/sklearn/preprocessing/_encoders.py:174: UserWarning: Found unknown categories in columns [0] during transform. These unknown categories will be encoded as all zeros\n",
            "  UserWarning,\n"
          ]
        },
        {
          "name": "stdout",
          "output_type": "stream",
          "text": [
            "[CV 1/5] END .............reg3__n_neighbors=10;, score=-1.429 total time=   2.6s\n",
            "[CV 2/5] END .............reg3__n_neighbors=10;, score=-1.431 total time=   2.5s\n",
            "[CV 3/5] END .............reg3__n_neighbors=10;, score=-1.562 total time=   2.6s\n",
            "[CV 4/5] END .............reg3__n_neighbors=10;, score=-1.517 total time=   2.7s\n",
            "[CV 5/5] END .............reg3__n_neighbors=10;, score=-1.485 total time=   2.6s\n"
          ]
        },
        {
          "name": "stderr",
          "output_type": "stream",
          "text": [
            "/usr/local/lib/python3.7/dist-packages/sklearn/preprocessing/_encoders.py:174: UserWarning: Found unknown categories in columns [0] during transform. These unknown categories will be encoded as all zeros\n",
            "  UserWarning,\n"
          ]
        },
        {
          "name": "stdout",
          "output_type": "stream",
          "text": [
            "[CV 1/5] END .............reg3__n_neighbors=15;, score=-1.423 total time=   2.6s\n",
            "[CV 2/5] END .............reg3__n_neighbors=15;, score=-1.394 total time=   2.5s\n",
            "[CV 3/5] END .............reg3__n_neighbors=15;, score=-1.534 total time=   2.6s\n",
            "[CV 4/5] END .............reg3__n_neighbors=15;, score=-1.486 total time=   2.6s\n",
            "[CV 5/5] END .............reg3__n_neighbors=15;, score=-1.440 total time=   2.6s\n",
            "\n",
            "        Best MSE (avg. of inner test folds) 1.4555839623028068\n",
            "        Best parameters: {'reg3__n_neighbors': 15}\n",
            "-------------------------------------------------- \n",
            "\n",
            "Algorithm: Ridge\n",
            "    Inner loop:\n",
            "Fitting 5 folds for each of 11 candidates, totalling 55 fits\n"
          ]
        },
        {
          "name": "stderr",
          "output_type": "stream",
          "text": [
            "/usr/local/lib/python3.7/dist-packages/sklearn/preprocessing/_encoders.py:174: UserWarning: Found unknown categories in columns [0] during transform. These unknown categories will be encoded as all zeros\n",
            "  UserWarning,\n"
          ]
        },
        {
          "name": "stdout",
          "output_type": "stream",
          "text": [
            "[CV 1/5] END ................reg2__alpha=1e-05;, score=-1.323 total time=   0.4s\n",
            "[CV 2/5] END ................reg2__alpha=1e-05;, score=-1.316 total time=   0.5s\n",
            "[CV 3/5] END ................reg2__alpha=1e-05;, score=-1.470 total time=   0.4s\n",
            "[CV 4/5] END ................reg2__alpha=1e-05;, score=-1.396 total time=   0.5s\n",
            "[CV 5/5] END ................reg2__alpha=1e-05;, score=-1.359 total time=   0.5s\n"
          ]
        },
        {
          "name": "stderr",
          "output_type": "stream",
          "text": [
            "/usr/local/lib/python3.7/dist-packages/sklearn/preprocessing/_encoders.py:174: UserWarning: Found unknown categories in columns [0] during transform. These unknown categories will be encoded as all zeros\n",
            "  UserWarning,\n"
          ]
        },
        {
          "name": "stdout",
          "output_type": "stream",
          "text": [
            "[CV 1/5] END ...............reg2__alpha=0.0001;, score=-1.323 total time=   0.5s\n",
            "[CV 2/5] END ...............reg2__alpha=0.0001;, score=-1.316 total time=   0.5s\n",
            "[CV 3/5] END ...............reg2__alpha=0.0001;, score=-1.470 total time=   0.5s\n",
            "[CV 4/5] END ...............reg2__alpha=0.0001;, score=-1.396 total time=   0.5s\n",
            "[CV 5/5] END ...............reg2__alpha=0.0001;, score=-1.359 total time=   0.5s\n"
          ]
        },
        {
          "name": "stderr",
          "output_type": "stream",
          "text": [
            "/usr/local/lib/python3.7/dist-packages/sklearn/preprocessing/_encoders.py:174: UserWarning: Found unknown categories in columns [0] during transform. These unknown categories will be encoded as all zeros\n",
            "  UserWarning,\n"
          ]
        },
        {
          "name": "stdout",
          "output_type": "stream",
          "text": [
            "[CV 1/5] END ................reg2__alpha=0.001;, score=-1.323 total time=   0.5s\n",
            "[CV 2/5] END ................reg2__alpha=0.001;, score=-1.316 total time=   0.5s\n",
            "[CV 3/5] END ................reg2__alpha=0.001;, score=-1.470 total time=   0.5s\n",
            "[CV 4/5] END ................reg2__alpha=0.001;, score=-1.396 total time=   0.4s\n",
            "[CV 5/5] END ................reg2__alpha=0.001;, score=-1.359 total time=   0.5s\n"
          ]
        },
        {
          "name": "stderr",
          "output_type": "stream",
          "text": [
            "/usr/local/lib/python3.7/dist-packages/sklearn/preprocessing/_encoders.py:174: UserWarning: Found unknown categories in columns [0] during transform. These unknown categories will be encoded as all zeros\n",
            "  UserWarning,\n"
          ]
        },
        {
          "name": "stdout",
          "output_type": "stream",
          "text": [
            "[CV 1/5] END .................reg2__alpha=0.01;, score=-1.323 total time=   0.5s\n",
            "[CV 2/5] END .................reg2__alpha=0.01;, score=-1.316 total time=   0.5s\n",
            "[CV 3/5] END .................reg2__alpha=0.01;, score=-1.470 total time=   0.4s\n",
            "[CV 4/5] END .................reg2__alpha=0.01;, score=-1.396 total time=   0.5s\n",
            "[CV 5/5] END .................reg2__alpha=0.01;, score=-1.359 total time=   0.4s\n"
          ]
        },
        {
          "name": "stderr",
          "output_type": "stream",
          "text": [
            "/usr/local/lib/python3.7/dist-packages/sklearn/preprocessing/_encoders.py:174: UserWarning: Found unknown categories in columns [0] during transform. These unknown categories will be encoded as all zeros\n",
            "  UserWarning,\n"
          ]
        },
        {
          "name": "stdout",
          "output_type": "stream",
          "text": [
            "[CV 1/5] END ..................reg2__alpha=0.1;, score=-1.321 total time=   0.4s\n",
            "[CV 2/5] END ..................reg2__alpha=0.1;, score=-1.315 total time=   0.4s\n",
            "[CV 3/5] END ..................reg2__alpha=0.1;, score=-1.469 total time=   0.4s\n",
            "[CV 4/5] END ..................reg2__alpha=0.1;, score=-1.395 total time=   0.4s\n",
            "[CV 5/5] END ..................reg2__alpha=0.1;, score=-1.358 total time=   0.5s\n"
          ]
        },
        {
          "name": "stderr",
          "output_type": "stream",
          "text": [
            "/usr/local/lib/python3.7/dist-packages/sklearn/preprocessing/_encoders.py:174: UserWarning: Found unknown categories in columns [0] during transform. These unknown categories will be encoded as all zeros\n",
            "  UserWarning,\n"
          ]
        },
        {
          "name": "stdout",
          "output_type": "stream",
          "text": [
            "[CV 1/5] END ..................reg2__alpha=1.0;, score=-1.313 total time=   0.5s\n",
            "[CV 2/5] END ..................reg2__alpha=1.0;, score=-1.305 total time=   0.4s\n",
            "[CV 3/5] END ..................reg2__alpha=1.0;, score=-1.462 total time=   0.5s\n",
            "[CV 4/5] END ..................reg2__alpha=1.0;, score=-1.388 total time=   0.4s\n",
            "[CV 5/5] END ..................reg2__alpha=1.0;, score=-1.348 total time=   0.5s\n"
          ]
        },
        {
          "name": "stderr",
          "output_type": "stream",
          "text": [
            "/usr/local/lib/python3.7/dist-packages/sklearn/preprocessing/_encoders.py:174: UserWarning: Found unknown categories in columns [0] during transform. These unknown categories will be encoded as all zeros\n",
            "  UserWarning,\n"
          ]
        },
        {
          "name": "stdout",
          "output_type": "stream",
          "text": [
            "[CV 1/5] END .................reg2__alpha=10.0;, score=-1.299 total time=   0.5s\n",
            "[CV 2/5] END .................reg2__alpha=10.0;, score=-1.277 total time=   0.5s\n",
            "[CV 3/5] END .................reg2__alpha=10.0;, score=-1.451 total time=   0.5s\n",
            "[CV 4/5] END .................reg2__alpha=10.0;, score=-1.377 total time=   0.5s\n",
            "[CV 5/5] END .................reg2__alpha=10.0;, score=-1.329 total time=   0.5s\n"
          ]
        },
        {
          "name": "stderr",
          "output_type": "stream",
          "text": [
            "/usr/local/lib/python3.7/dist-packages/sklearn/preprocessing/_encoders.py:174: UserWarning: Found unknown categories in columns [0] during transform. These unknown categories will be encoded as all zeros\n",
            "  UserWarning,\n"
          ]
        },
        {
          "name": "stdout",
          "output_type": "stream",
          "text": [
            "[CV 1/5] END ................reg2__alpha=100.0;, score=-1.361 total time=   0.4s\n",
            "[CV 2/5] END ................reg2__alpha=100.0;, score=-1.301 total time=   0.5s\n",
            "[CV 3/5] END ................reg2__alpha=100.0;, score=-1.495 total time=   0.4s\n",
            "[CV 4/5] END ................reg2__alpha=100.0;, score=-1.425 total time=   0.5s\n",
            "[CV 5/5] END ................reg2__alpha=100.0;, score=-1.367 total time=   0.5s\n"
          ]
        },
        {
          "name": "stderr",
          "output_type": "stream",
          "text": [
            "/usr/local/lib/python3.7/dist-packages/sklearn/preprocessing/_encoders.py:174: UserWarning: Found unknown categories in columns [0] during transform. These unknown categories will be encoded as all zeros\n",
            "  UserWarning,\n"
          ]
        },
        {
          "name": "stdout",
          "output_type": "stream",
          "text": [
            "[CV 1/5] END ...............reg2__alpha=1000.0;, score=-1.452 total time=   0.5s\n",
            "[CV 2/5] END ...............reg2__alpha=1000.0;, score=-1.368 total time=   0.5s\n",
            "[CV 3/5] END ...............reg2__alpha=1000.0;, score=-1.567 total time=   0.5s\n",
            "[CV 4/5] END ...............reg2__alpha=1000.0;, score=-1.501 total time=   0.5s\n",
            "[CV 5/5] END ...............reg2__alpha=1000.0;, score=-1.427 total time=   0.5s\n"
          ]
        },
        {
          "name": "stderr",
          "output_type": "stream",
          "text": [
            "/usr/local/lib/python3.7/dist-packages/sklearn/preprocessing/_encoders.py:174: UserWarning: Found unknown categories in columns [0] during transform. These unknown categories will be encoded as all zeros\n",
            "  UserWarning,\n"
          ]
        },
        {
          "name": "stdout",
          "output_type": "stream",
          "text": [
            "[CV 1/5] END ..............reg2__alpha=10000.0;, score=-1.502 total time=   0.5s\n",
            "[CV 2/5] END ..............reg2__alpha=10000.0;, score=-1.409 total time=   0.5s\n",
            "[CV 3/5] END ..............reg2__alpha=10000.0;, score=-1.611 total time=   0.5s\n",
            "[CV 4/5] END ..............reg2__alpha=10000.0;, score=-1.542 total time=   0.4s\n",
            "[CV 5/5] END ..............reg2__alpha=10000.0;, score=-1.455 total time=   0.5s\n"
          ]
        },
        {
          "name": "stderr",
          "output_type": "stream",
          "text": [
            "/usr/local/lib/python3.7/dist-packages/sklearn/preprocessing/_encoders.py:174: UserWarning: Found unknown categories in columns [0] during transform. These unknown categories will be encoded as all zeros\n",
            "  UserWarning,\n"
          ]
        },
        {
          "name": "stdout",
          "output_type": "stream",
          "text": [
            "[CV 1/5] END .............reg2__alpha=100000.0;, score=-1.537 total time=   0.5s\n",
            "[CV 2/5] END .............reg2__alpha=100000.0;, score=-1.439 total time=   0.5s\n",
            "[CV 3/5] END .............reg2__alpha=100000.0;, score=-1.645 total time=   0.4s\n",
            "[CV 4/5] END .............reg2__alpha=100000.0;, score=-1.568 total time=   0.5s\n",
            "[CV 5/5] END .............reg2__alpha=100000.0;, score=-1.475 total time=   0.4s\n",
            "\n",
            "        Best MSE (avg. of inner test folds) 1.3466667038443543\n",
            "        Best parameters: {'reg2__alpha': 10.0}\n"
          ]
        }
      ],
      "source": [
        "train_data = pd.concat(folds)\n",
        "\n",
        "train_X = train_data.drop(columns = ['score'])\n",
        "train_y = train_data['score']\n",
        "\n",
        "test_X = test_data[feature_set]\n",
        "test_y = test_data['score']\n",
        "\n",
        "cv_results = []\n",
        "\n",
        "for name, gs_est in sorted(gridcvs.items()):\n",
        "    print(50 * '-', '\\n')\n",
        "    print('Algorithm:', name)\n",
        "    print('    Inner loop:')\n",
        "    \n",
        "    outer_scores = []\n",
        "\n",
        "    gridcvs[name].fit(train_X, \n",
        "                      train_y) # run inner loop hyperparam tuning\n",
        "    print('\\n        Best MSE (avg. of inner test folds) {}'.format(gridcvs[name].best_score_ *-1))\n",
        "    print('        Best parameters:', gridcvs[name].best_params_)\n",
        "    \n",
        "    res = pd.DataFrame(gridcvs[name].cv_results_)\n",
        "    params = res.sort_values('mean_test_score').params.iloc[-1]\n",
        "\n",
        "    hyperparameter_setting = '_'\n",
        "    for i,j in zip(list(params.keys()), list(params.values())):\n",
        "        hyperparameter_setting += str(i)[6:] + '_' +str(j) + '_'\n",
        "\n",
        "    preds = gridcvs[name].best_estimator_.predict(test_X)\n",
        "    rmse_test = np.sqrt(np.mean(np.square(preds - test_y)))\n",
        "\n",
        "    cv_results.append({'model_name':name,\n",
        "                        'hyperparameter_setting':hyperparameter_setting,\n",
        "                        'mean_training_rmse':abs(res.mean_test_score).min(),\n",
        "                        'sd_training_rmse':res.sort_values('mean_test_score').std_test_score.iloc[-1],\n",
        "                        'test_rmse':rmse_test})\n"
      ],
      "id": "_8bE3a__ZY1o"
    },
    {
      "cell_type": "code",
      "execution_count": null,
      "metadata": {
        "colab": {
          "base_uri": "https://localhost:8080/",
          "height": 208
        },
        "id": "WP8FRrP3GHtz",
        "outputId": "9d51abd9-895f-4624-c103-025c869ec3c2"
      },
      "outputs": [
        {
          "data": {
            "text/html": [
              "\n",
              "  <div id=\"df-057d27fa-5e3b-4af8-ae4b-4c3741e34dcd\">\n",
              "    <div class=\"colab-df-container\">\n",
              "      <div>\n",
              "<style scoped>\n",
              "    .dataframe tbody tr th:only-of-type {\n",
              "        vertical-align: middle;\n",
              "    }\n",
              "\n",
              "    .dataframe tbody tr th {\n",
              "        vertical-align: top;\n",
              "    }\n",
              "\n",
              "    .dataframe thead th {\n",
              "        text-align: right;\n",
              "    }\n",
              "</style>\n",
              "<table border=\"1\" class=\"dataframe\">\n",
              "  <thead>\n",
              "    <tr style=\"text-align: right;\">\n",
              "      <th></th>\n",
              "      <th>model_name</th>\n",
              "      <th>hyperparameter_setting</th>\n",
              "      <th>mean_training_rmse</th>\n",
              "      <th>sd_training_rmse</th>\n",
              "      <th>test_rmse</th>\n",
              "    </tr>\n",
              "  </thead>\n",
              "  <tbody>\n",
              "    <tr>\n",
              "      <th>0</th>\n",
              "      <td>DTR</td>\n",
              "      <td>_criterion_squared_error_max_depth_5_</td>\n",
              "      <td>1.458993</td>\n",
              "      <td>0.060825</td>\n",
              "      <td>1.202108</td>\n",
              "    </tr>\n",
              "    <tr>\n",
              "      <th>1</th>\n",
              "      <td>KNN</td>\n",
              "      <td>_n_neighbors_15_</td>\n",
              "      <td>1.455584</td>\n",
              "      <td>0.049361</td>\n",
              "      <td>1.212350</td>\n",
              "    </tr>\n",
              "    <tr>\n",
              "      <th>2</th>\n",
              "      <td>Ridge</td>\n",
              "      <td>_alpha_10.0_</td>\n",
              "      <td>1.346667</td>\n",
              "      <td>0.062092</td>\n",
              "      <td>1.161786</td>\n",
              "    </tr>\n",
              "  </tbody>\n",
              "</table>\n",
              "</div>\n",
              "      <button class=\"colab-df-convert\" onclick=\"convertToInteractive('df-057d27fa-5e3b-4af8-ae4b-4c3741e34dcd')\"\n",
              "              title=\"Convert this dataframe to an interactive table.\"\n",
              "              style=\"display:none;\">\n",
              "        \n",
              "  <svg xmlns=\"http://www.w3.org/2000/svg\" height=\"24px\"viewBox=\"0 0 24 24\"\n",
              "       width=\"24px\">\n",
              "    <path d=\"M0 0h24v24H0V0z\" fill=\"none\"/>\n",
              "    <path d=\"M18.56 5.44l.94 2.06.94-2.06 2.06-.94-2.06-.94-.94-2.06-.94 2.06-2.06.94zm-11 1L8.5 8.5l.94-2.06 2.06-.94-2.06-.94L8.5 2.5l-.94 2.06-2.06.94zm10 10l.94 2.06.94-2.06 2.06-.94-2.06-.94-.94-2.06-.94 2.06-2.06.94z\"/><path d=\"M17.41 7.96l-1.37-1.37c-.4-.4-.92-.59-1.43-.59-.52 0-1.04.2-1.43.59L10.3 9.45l-7.72 7.72c-.78.78-.78 2.05 0 2.83L4 21.41c.39.39.9.59 1.41.59.51 0 1.02-.2 1.41-.59l7.78-7.78 2.81-2.81c.8-.78.8-2.07 0-2.86zM5.41 20L4 18.59l7.72-7.72 1.47 1.35L5.41 20z\"/>\n",
              "  </svg>\n",
              "      </button>\n",
              "      \n",
              "  <style>\n",
              "    .colab-df-container {\n",
              "      display:flex;\n",
              "      flex-wrap:wrap;\n",
              "      gap: 12px;\n",
              "    }\n",
              "\n",
              "    .colab-df-convert {\n",
              "      background-color: #E8F0FE;\n",
              "      border: none;\n",
              "      border-radius: 50%;\n",
              "      cursor: pointer;\n",
              "      display: none;\n",
              "      fill: #1967D2;\n",
              "      height: 32px;\n",
              "      padding: 0 0 0 0;\n",
              "      width: 32px;\n",
              "    }\n",
              "\n",
              "    .colab-df-convert:hover {\n",
              "      background-color: #E2EBFA;\n",
              "      box-shadow: 0px 1px 2px rgba(60, 64, 67, 0.3), 0px 1px 3px 1px rgba(60, 64, 67, 0.15);\n",
              "      fill: #174EA6;\n",
              "    }\n",
              "\n",
              "    [theme=dark] .colab-df-convert {\n",
              "      background-color: #3B4455;\n",
              "      fill: #D2E3FC;\n",
              "    }\n",
              "\n",
              "    [theme=dark] .colab-df-convert:hover {\n",
              "      background-color: #434B5C;\n",
              "      box-shadow: 0px 1px 3px 1px rgba(0, 0, 0, 0.15);\n",
              "      filter: drop-shadow(0px 1px 2px rgba(0, 0, 0, 0.3));\n",
              "      fill: #FFFFFF;\n",
              "    }\n",
              "  </style>\n",
              "\n",
              "      <script>\n",
              "        const buttonEl =\n",
              "          document.querySelector('#df-057d27fa-5e3b-4af8-ae4b-4c3741e34dcd button.colab-df-convert');\n",
              "        buttonEl.style.display =\n",
              "          google.colab.kernel.accessAllowed ? 'block' : 'none';\n",
              "\n",
              "        async function convertToInteractive(key) {\n",
              "          const element = document.querySelector('#df-057d27fa-5e3b-4af8-ae4b-4c3741e34dcd');\n",
              "          const dataTable =\n",
              "            await google.colab.kernel.invokeFunction('convertToInteractive',\n",
              "                                                     [key], {});\n",
              "          if (!dataTable) return;\n",
              "\n",
              "          const docLinkHtml = 'Like what you see? Visit the ' +\n",
              "            '<a target=\"_blank\" href=https://colab.research.google.com/notebooks/data_table.ipynb>data table notebook</a>'\n",
              "            + ' to learn more about interactive tables.';\n",
              "          element.innerHTML = '';\n",
              "          dataTable['output_type'] = 'display_data';\n",
              "          await google.colab.output.renderOutput(dataTable, element);\n",
              "          const docLink = document.createElement('div');\n",
              "          docLink.innerHTML = docLinkHtml;\n",
              "          element.appendChild(docLink);\n",
              "        }\n",
              "      </script>\n",
              "    </div>\n",
              "  </div>\n",
              "  "
            ],
            "text/plain": [
              "  model_name                 hyperparameter_setting  mean_training_rmse  \\\n",
              "0        DTR  _criterion_squared_error_max_depth_5_            1.458993   \n",
              "1        KNN                       _n_neighbors_15_            1.455584   \n",
              "2      Ridge                           _alpha_10.0_            1.346667   \n",
              "\n",
              "   sd_training_rmse  test_rmse  \n",
              "0          0.060825   1.202108  \n",
              "1          0.049361   1.212350  \n",
              "2          0.062092   1.161786  "
            ]
          },
          "execution_count": 82,
          "metadata": {},
          "output_type": "execute_result"
        }
      ],
      "source": [
        "part_14_results = pd.DataFrame(cv_results)\n",
        "part_14_results"
      ],
      "id": "WP8FRrP3GHtz"
    },
    {
      "cell_type": "code",
      "execution_count": null,
      "metadata": {
        "id": "cOK1-cB8ec_R"
      },
      "outputs": [],
      "source": [
        "part_14_results.to_csv('part_1.4_results.csv')"
      ],
      "id": "cOK1-cB8ec_R"
    },
    {
      "cell_type": "markdown",
      "metadata": {
        "id": "neither-viking"
      },
      "source": [
        "# Part 2\n",
        "\n",
        "In class, we have shifted from regression to classification. Here, we're going to get a little practice in optimizing one of the classification models we saw in class - logistic regression. As a reminder...\n",
        "\n",
        "The loss function of logistic regression (also known as the logistic-loss or log-loss) is given by:\n",
        "\\begin{equation}\n",
        "  J({\\bf w}) = \\frac{1}{n}\\sum_{i=1}^n \\log{(1 + \\exp{(-y_i{\\bf w}^\\top{\\bf x}_i}))}\n",
        "  \\label{eqn:logloss}\n",
        "\\end{equation}\n",
        "\n",
        "The gradient for this loss function, as derived in class, is:\n",
        "\\begin{equation}\n",
        "  \\nabla J({\\bf w}) = -\\frac{1}{n}\\sum_{i=1}^n \\frac{y_i}{1 + \\exp{(y_i{\\bf w}^\\top{\\bf x}_i)}}{\\bf x}_i\n",
        "  \\label{eqn:loglossgradient}\n",
        "\\end{equation}\n",
        "\n",
        "\n",
        "The Hessian for the loss function is given by:\n",
        "\\begin{equation}\n",
        "  {\\bf H}({\\bf w}) = \\frac{1}{n} \\sum_{i=1}^n \\frac{\\exp{(y_i{\\bf w}^\\top{\\bf x}_i)}}{(1 + \\exp{(y_i{\\bf w}^\\top{\\bf x}_i)})^2}{\\bf x}_i{\\bf x}_i^\\top\n",
        "  \\label{eqn:loglosshessian}\n",
        "\\end{equation}\n",
        "\n",
        "## Part 2.1 - Logistic Regression with Gradient Descent\n",
        "\n",
        "In Part 2.1 we will implement logistic regression with gradient descent. You need to finish implementing 3 functions:\n",
        "\n",
        "1. `logistic_objective` - compute the logistic loss for the given data set (see equation above)\n",
        "2. `logistic_gradient` - compute the gradient vector of logistic loss for the given data set (see equation above)\n",
        "3. `run_gradient_descent` - run the gradient descent algorithm, given these two functions.\n",
        "\n",
        "We have provided you with some simulation data to evaluate your method with. Part 2.1 will, however, largely be graded by evaluating your code on a slightly different dataset to ensure robustness. \n",
        "\n",
        "In addition, please submit answers to the following questions on your written report:\n",
        "\n",
        "- **2.1.1** - How did you go about selecting a good step size, i.e. one that was not too big or too small? (*Note: There is more than one correct answer to this*)\n",
        "- **2.1.2** - What is the condition under which we assume that the gradient descent algorithm has converged in the code here?\n",
        "- **2.1.3** - What is a different convergence metric we could have used? (*Note: There is more than one correct answer to this*)"
      ],
      "id": "neither-viking"
    },
    {
      "cell_type": "code",
      "execution_count": null,
      "metadata": {
        "id": "standard-roulette"
      },
      "outputs": [],
      "source": [
        "\n",
        "import math as m\n",
        "def logistic_objective(w, X, y):\n",
        "\n",
        "    # compute log-loss error (scalar) with respect\n",
        "    # to w (vector) for the given data X and y                               \n",
        "    # Inputs:\n",
        "    # w = d x 1\n",
        "    # X = N x d\n",
        "    # y = N x 1\n",
        "    # Output:\n",
        "    # error = scalar\n",
        "    \n",
        "    # IMPLEMENT THIS METHOD - REMOVE THE NEXT LINE\n",
        "    J = 0\n",
        "    N = len(y)\n",
        "    for i in range(N):\n",
        "      J += np.log(1+m.exp(-y[i]*np.dot(np.transpose(w),X[i])))\n",
        "    J = J/N\n",
        "    return J\n",
        "\n",
        "def logistic_gradient(w, X, y):\n",
        "\n",
        "    # compute the gradient of the log-loss error (vector) with respect\n",
        "    # to w (vector) for the given data X and y  \n",
        "    #\n",
        "    # Inputs:\n",
        "    # w = d x 1\n",
        "    # X = N x d\n",
        "    # y = N x 1\n",
        "    # Output:\n",
        "    # error = d length gradient vector (not a d x 1 matrix)\n",
        "\n",
        "    # IMPLEMENT THIS METHOD - REMOVE THE NEXT LINE\n",
        "    grad = 0\n",
        "    N = len(y)\n",
        "    for i in range(len(X)):\n",
        "      grad += y[i]/(1+ np.exp(y[i]*np.dot(w,X[i])))*X[i]\n",
        "\n",
        "      #temp_dot = np.dot(np.transpose(w),X[i])\n",
        "      #print(y[i]*temp_dot)\n",
        "      #exp = math.exp(y[i]*temp_dot)\n",
        "      #temp = y[i]/exp\n",
        "      #gradient += temp*X[i]\n",
        "    gradient = -1*(grad/len(X))\n",
        "    return gradient\n",
        "\n",
        "def run_gradient_descent(X,y):\n",
        "    old_w = np.array([-1]*X.shape[1])\n",
        "    # change this value! This is an unreasonable step size\n",
        "    step_size = 0.05\n",
        "    new_w =old_w - 1\n",
        "    \n",
        "    while ((new_w-old_w)**2).sum() > .000001:\n",
        "        #IMPLEMENT THIS!\n",
        "        temp = new_w\n",
        "        new_w = old_w - step_size*logistic_gradient(old_w, X, y)\n",
        "        old_w = temp\n",
        "        print(new_w, old_w)\n",
        "        print(((new_w-old_w)**2).sum())\n",
        "\n",
        "    return new_w\n",
        "\n"
      ],
      "id": "standard-roulette"
    },
    {
      "cell_type": "code",
      "execution_count": null,
      "metadata": {
        "id": "crude-foundation"
      },
      "outputs": [],
      "source": [
        "from scipy.stats import uniform, bernoulli\n",
        "import functools\n",
        "draw_binary = functools.partial(np.random.binomial,n=1)\n",
        "\n",
        "## Simulated data to test your method\n",
        "DATA_SIZE = 10000\n",
        "x1 = bernoulli(.5).rvs(DATA_SIZE)\n",
        "x2 = np.floor(uniform(18,60).rvs(DATA_SIZE))\n",
        "true_w = [-9, 3.5, 0.2]\n",
        "xb = true_w[0] + true_w[1]*x1 + true_w[2]*x2\n",
        "p = 1/(1 + np.exp(-xb))\n",
        "y = np.array([1 if draw_binary(p=v) else -1 for v in p])"
      ],
      "id": "crude-foundation"
    },
    {
      "cell_type": "code",
      "execution_count": null,
      "metadata": {
        "colab": {
          "base_uri": "https://localhost:8080/"
        },
        "id": "noted-newton",
        "outputId": "f43460b2-d3bd-4cfa-c444-bc45d2e30229"
      },
      "outputs": [
        {
          "data": {
            "text/plain": [
              "array([[-8.32931976,  3.28459294,  0.18536353]])"
            ]
          },
          "execution_count": 15,
          "metadata": {},
          "output_type": "execute_result"
        }
      ],
      "source": [
        "from sklearn.linear_model import LogisticRegression\n",
        "\n",
        "# notice that logistic regression as implemented in sklearn does not get the exact results either!\n",
        "# so you shouldn't worry if you're a bit off\n",
        "X = np.hstack([np.ones((len(xb),1)), x1[:,np.newaxis], x2[:,np.newaxis]])\n",
        "model = LogisticRegression(solver='liblinear', random_state=0,fit_intercept=False)\n",
        "model.fit(X,y).coef_"
      ],
      "id": "noted-newton"
    },
    {
      "cell_type": "code",
      "execution_count": null,
      "metadata": {
        "id": "american-locking"
      },
      "outputs": [],
      "source": [
        "# this is how we will test your results\n",
        "gd_result = run_gradient_descent(X,y)\n",
        "# is your result relatively close to the truth?\n",
        "np.abs(true_w-gd_result).sum()"
      ],
      "id": "american-locking"
    },
    {
      "cell_type": "markdown",
      "metadata": {
        "id": "diagnostic-toddler"
      },
      "source": [
        "## <span style=\"color:red\"> 574 Only</span> Part 2.2 - Optimization with Newton-Raphson <span style=\"color:red\"> 574 Only</span>\n",
        "\n",
        "In Part 2.2, you are going to, instead of using gradient descent, use the Newton-Raphson method to optimize the same logistic regression model. To do so, you will need to 1) implement the `logistic_hessian` function to compute the Hessian matrix of logistic loss for the given data set, and 2) use `scipy`'s `optimize` function to perform the optimization, rather than writing a function by hand to do so.  \n",
        "\n",
        "For Part 2.2, you will only need to implement these functions, we will test them using our own code. You can, however, perform the same kinds of tests that we proposed above to check your work! "
      ],
      "id": "diagnostic-toddler"
    },
    {
      "cell_type": "code",
      "execution_count": null,
      "metadata": {
        "id": "conscious-spokesman"
      },
      "outputs": [],
      "source": [
        "def logistic_hessian(w, X, y):\n",
        "\n",
        "    # compute the Hessian of the log-loss error (matrix) with respect\n",
        "    # to w (vector) for the given data X and y                               \n",
        "    #\n",
        "    # Inputs:\n",
        "    # w = d x 1\n",
        "    # X = N x d\n",
        "    # y = N x 1\n",
        "    # Output:\n",
        "    # Hessian = d x d matrix\n",
        "    \n",
        "    \n",
        "    if len(w.shape) == 1:\n",
        "        w = w[:,np.newaxis]\n",
        "\n",
        "    # IMPLEMENT THIS METHOD - REMOVE THE NEXT LINE\n",
        "    loss = 0\n",
        "    for i in range(len(X)):\n",
        "      x= np.array(X[i])\n",
        "      num = m.exp(y[i]*(np.dot(np.transpose(w),x)))\n",
        "      den = (1+num)**2\n",
        "      x = x.reshape(3,1)\n",
        "      loss += (num/den)*x*np.transpose(x)\n",
        "    \n",
        "    hessian = loss/len(X)\n",
        "    return hessian"
      ],
      "id": "conscious-spokesman"
    },
    {
      "cell_type": "code",
      "execution_count": null,
      "metadata": {
        "id": "bored-determination"
      },
      "outputs": [],
      "source": [
        "from scipy.optimize import minimize\n",
        "\n",
        "def run_newton_raphson(X,y):\n",
        "    args = (X,y[:,np.newaxis])\n",
        "    opts = {'maxiter' : 50}    # Preferred value.    \n",
        "    w_init = np.zeros(X.shape[1])\n",
        "    \n",
        "    # note: this is *almost* what you need, you just need to figure out what arguments are necessary here!\n",
        "    soln = minimize(logistic_objective,\n",
        "                    x0 = w_init,\n",
        "                    args=args,\n",
        "                    jac = logistic_gradient,\n",
        "                    hess = logistic_hessian,\n",
        "                    method='Newton-CG',\n",
        "                    options=opts)\n",
        "\n",
        "    w = np.transpose(np.array(soln.x))\n",
        "    w = w[:,np.newaxis]\n",
        "    return w\n"
      ],
      "id": "bored-determination"
    },
    {
      "cell_type": "code",
      "execution_count": null,
      "metadata": {
        "colab": {
          "base_uri": "https://localhost:8080/"
        },
        "id": "liable-station",
        "outputId": "cac1c4fd-7647-4aa2-bc57-bbd3f9a30624"
      },
      "outputs": [
        {
          "data": {
            "text/plain": [
              "array([[-8.69093471],\n",
              "       [ 3.43625596],\n",
              "       [ 0.19280142]])"
            ]
          },
          "execution_count": 18,
          "metadata": {},
          "output_type": "execute_result"
        }
      ],
      "source": [
        "run_newton_raphson(X,y)"
      ],
      "id": "liable-station"
    },
    {
      "cell_type": "code",
      "execution_count": null,
      "metadata": {
        "id": "9c7qQKRR9w0-"
      },
      "outputs": [],
      "source": [
        ""
      ],
      "id": "9c7qQKRR9w0-"
    }
  ],
  "metadata": {
    "colab": {
      "collapsed_sections": [],
      "name": "Assignment2-Student.ipynb",
      "provenance": []
    },
    "kernelspec": {
      "display_name": "Python 3 (ipykernel)",
      "language": "python",
      "name": "python3"
    },
    "language_info": {
      "codemirror_mode": {
        "name": "ipython",
        "version": 3
      },
      "file_extension": ".py",
      "mimetype": "text/x-python",
      "name": "python",
      "nbconvert_exporter": "python",
      "pygments_lexer": "ipython3",
      "version": "3.8.5"
    }
  },
  "nbformat": 4,
  "nbformat_minor": 5
}